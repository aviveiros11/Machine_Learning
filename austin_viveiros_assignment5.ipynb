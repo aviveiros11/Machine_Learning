{
 "cells": [
  {
   "cell_type": "markdown",
   "metadata": {},
   "source": [
    "# Getting Python\n",
    "\n",
    "\n",
    "For this course, we are going to use Jupyter notebook as our environment for developing Python code.\n",
    "refer to https://jupyter.readthedocs.io/en/latest/content-quickstart.html on the instructions how to install it, the easiest way is to install from Anaconda (https://www.anaconda.com/download/) website, make sure you install with Python 3.6.\n",
    "\n",
    "Also, it is good for the students who are not familiar with python (or they need a quick refreshment) to follow Jim Bagrow tutorial http://bagrow.com/ds1/whirlwindtourpython/00-Title.html. \n",
    "\n",
    "All the assignments to be written in Python 3.6 and can be run using Jupyter on one of the following Internet browsers (Chrome, Safari or Firefox), these are the browsers that officially supported by jupyter.\n",
    "\n",
    "<u> Note: for this assignment, submit your local copy of this page, running on IPython. Submit the file to Blackboard under Assignment5 using this file format:</u> <b>Yourfirstname_lastname_Assignment5.ipynb</b> \n",
    "\n",
    "#### <b>Deadline</b>: <u>Dec-6-2019 11:59 PM.</u>"
   ]
  },
  {
   "cell_type": "markdown",
   "metadata": {},
   "source": [
    "### Getting started: Installing Numpy, Keras and TensorFlow"
   ]
  },
  {
   "cell_type": "markdown",
   "metadata": {},
   "source": [
    "Keras is a high-level Python API that allows you to easily construct, train, and apply neural networks.\n",
    "However, Keras is not a neural network library itself and depends on one of several neural network backends. We will use the Tensorflow backend. TensorFlow is an open-source library for neural networks (and other mathematical models based on sequences of matrix and tensor computations), originally developed by Google.Also, Keras uses numpy data structures. \n",
    "\n",
    "Installing Numpy, TensorFlow and Keras: \n",
    "\n",
    "We suggest that you use the Python package management system pip. \n",
    "On most systems, the following commands will work:\n",
    "\n",
    "- $ pip install numpy matplotlib.\n",
    "\n",
    "- $ pip install tensorflow\n",
    "\n",
    "- $ pip install keras\n",
    "\n",
    "### OR Using Anaconda (Easy and Prefered)\n",
    "\n",
    "- $ conda install keras scikit-learn pandas"
   ]
  },
  {
   "cell_type": "markdown",
   "metadata": {},
   "source": [
    "Note that this will likely install the CPU version of TensorFlow that does not use the GPU to speed up neural network training. For this assignment, training on the CPU will be sufficient, but if your computer has a GPU (or you want to try running the assignment in the cloud), follow the installation instructions on the tensorflow page. \n",
    "\n",
    "If you get stuck during the installation, you can find installation instructions for each package here: \n",
    "\n",
    "- Tensorflow: https://www.tensorflow.org/install/ \n",
    "- Keras: https://keras.io/#installation \n",
    "\n",
    "<b>I highly recommend that </b> you read and run these tutorials before you start this assignment. \n",
    "- https://www.tensorflow.org/tutorials/keras/classification\n",
    "- https://www.tensorflow.org/tutorials/images/cnn\n"
   ]
  },
  {
   "cell_type": "markdown",
   "metadata": {},
   "source": [
    "## Part 1\n",
    "### Introduction\n",
    "In this assignment you will use the Keras Neural Network API for Python to build neural networks for image classification. \n",
    "\n",
    "\n",
    "#### Data Set\n",
    "\n",
    "We will work on the CIFAR-10 image data set  described here: https://www.cs.toronto.edu/~kriz/cifar.html.\n",
    "\n",
    "The data set contains 60.000 images labeled with 10 different categories:\n",
    "\n",
    "Numeric ID\tCategory Name\n",
    "- 0\tairplane\n",
    "- 1\tautomobile\n",
    "- 2\tbird\n",
    "- 3\tcat\n",
    "- 4\tdeer\n",
    "- 5\tdog\n",
    "- 6\tfrog\n",
    "- 7\thorse\n",
    "- 8\tship\n",
    "- 9\ttruck\n",
    "\n",
    "\n",
    "Each image is 32x32 pixels large and there are three color channels (red, green blue). Each image can therefore be represented as three 32x32 matrices or one 32x32x3 cube.\n"
   ]
  },
  {
   "cell_type": "code",
   "execution_count": 176,
   "metadata": {},
   "outputs": [],
   "source": [
    "# import libraries\n",
    "%matplotlib inline\n",
    "import numpy as np\n",
    "import pandas as pd\n",
    "import matplotlib.pyplot as plt\n",
    "from keras.datasets import cifar10\n",
    "from keras import Sequential \n",
    "from keras import layers\n",
    "from keras import optimizers\n",
    "from sklearn.model_selection import train_test_split\n",
    "from keras.utils import to_categorical\n",
    "from keras.layers import Flatten, Dense, Dropout, Activation\n",
    "from keras.optimizers import SGD\n"
   ]
  },
  {
   "cell_type": "markdown",
   "metadata": {},
   "source": [
    "a. (20 pts) - Loading the CIFAR-10 Data\n",
    "\n",
    "The following code fragment imports the CIFAR-10 data using Keras. "
   ]
  },
  {
   "cell_type": "code",
   "execution_count": 177,
   "metadata": {},
   "outputs": [],
   "source": [
    "(xtrain, ytrain), (xtest, ytest) = cifar10.load_data()"
   ]
  },
  {
   "cell_type": "code",
   "execution_count": 178,
   "metadata": {},
   "outputs": [
    {
     "name": "stdout",
     "output_type": "stream",
     "text": [
      "(50000, 32, 32, 3)\n",
      "(50000, 1)\n"
     ]
    }
   ],
   "source": [
    "print(xtrain.shape)\n",
    "print(ytrain.shape)"
   ]
  },
  {
   "cell_type": "code",
   "execution_count": 179,
   "metadata": {
    "scrolled": false
   },
   "outputs": [
    {
     "name": "stdout",
     "output_type": "stream",
     "text": [
      "(10000, 32, 32, 3)\n",
      "(10000, 1)\n"
     ]
    }
   ],
   "source": [
    "print(xtest.shape)\n",
    "print(ytest.shape)"
   ]
  },
  {
   "cell_type": "markdown",
   "metadata": {},
   "source": [
    "Split the training data into training and validation (40000 for training, and 10000 for validation). Thus you have xtrain, ytrain, xvalid, yvalid, xtest, and ytest are numpy n-dimension arrays contains the training validation and testing data.\n",
    "\n",
    "The input training data (xtrain) is a 4-dimensional array containing 40000 images, each of them a 32x32x3 tensor. Numpy arrays can be indexed like nested Python lists, so xtrain[0] will give you the first 32x32x3 image.\n",
    "\n",
    "The input label (ytrain) is a vector containing the numeric class for each image (see table above for what the numeric IDs mean). For example, xtrain[0] is an image of a frog and therefore ytrain[0] contains the value 6. "
   ]
  },
  {
   "cell_type": "code",
   "execution_count": null,
   "metadata": {},
   "outputs": [],
   "source": []
  },
  {
   "cell_type": "markdown",
   "metadata": {},
   "source": [
    "## Visualizing Images\n",
    "If you want to take a look at the individual images, you can do so using matplotlib (this step is optional). "
   ]
  },
  {
   "cell_type": "code",
   "execution_count": 180,
   "metadata": {},
   "outputs": [
    {
     "data": {
      "text/plain": [
       "<matplotlib.image.AxesImage at 0x644ac0550>"
      ]
     },
     "execution_count": 180,
     "metadata": {},
     "output_type": "execute_result"
    },
    {
     "data": {
      "image/png": "[encoded data removed]",
      "text/plain": [
       "<Figure size 432x288 with 1 Axes>"
      ]
     },
     "metadata": {
      "needs_background": "light"
     },
     "output_type": "display_data"
    }
   ],
   "source": [
    "plt.imshow(xtrain[0])"
   ]
  },
  {
   "cell_type": "markdown",
   "metadata": {},
   "source": [
    "b.[20 Pnts] 1-hot representation for class labels\n",
    "\n",
    "The output layer of the neural networks we will train will contain 10 neurons corresponding to the 10 classes. The classifier predicts the class whose corresponding neuron has the highest activation. We need to convert the numeric indices for each image into a 1-hot vector of length 10, so that the for class label n the n-th element is 1 and all other elements are 0. For example, if the class label is 6, we should get the 1-hot vector [0 0 0 0 0 0 1 0 0 0].\n",
    "The class labels for the entire training and set should then be represented as a 50000x10 matrix, and the testing data as a 10000x10 matrix (there are 10k test images). \n",
    "\n",
    "Write the function load_cifar10(), which should load the cifar-10 data as described above and should return 6 numpy arrays xtrain, ytrain_1hot, xval, yval_1hot, xtest, ytest_1hot. Your function should convert the y arrays into the 1-hot representation. You can either do this using loops (slow), using numpy fancy indexing (see numpy documentation), or by using appropriate functions in the numpy or Keras API. \n",
    "\n",
    "Your function should also do the following normalization on the data. The R,G and B values for each pixel range between 0 and 255. Before returning the training data, normalize it so that these value range between 0.0 and 1.0."
   ]
  },
  {
   "cell_type": "code",
   "execution_count": 181,
   "metadata": {},
   "outputs": [],
   "source": [
    "def load_cifar10():\n",
    "    ''' '''    \n",
    "    # add your code here...\n",
    "    (xtrain,ytrain),(xtest,ytest) = cifar10.load_data()\n",
    "    xtrain,xval,ytrain,yval = train_test_split(xtrain,ytrain,test_size=0.2,random_state=40)\n",
    "   \n",
    "    ytrain_1hot = to_categorical(ytrain)\n",
    "    yval_1hot = to_categorical(yval)\n",
    "    ytest_1hot = to_categorical(ytest)\n",
    "    #Normalizing \n",
    "    xtrain = xtrain/255\n",
    "    xval = xval/255\n",
    "    xtest = xtest/255\n",
    "    \n",
    "    return xtrain, xval, xtest, ytrain_1hot, yval_1hot, ytest_1hot\n",
    "\n",
    "xtrain,xval,xtest,ytrain_1hot,yval_1hot,ytest_1hot = load_cifar10()"
   ]
  },
  {
   "cell_type": "markdown",
   "metadata": {},
   "source": [
    "### Check shapes"
   ]
  },
  {
   "cell_type": "code",
   "execution_count": 182,
   "metadata": {},
   "outputs": [
    {
     "name": "stdout",
     "output_type": "stream",
     "text": [
      "(40000, 32, 32, 3)\n",
      "(40000, 10)\n"
     ]
    }
   ],
   "source": [
    "print(xtrain.shape)\n",
    "print(ytrain_1hot.shape)"
   ]
  },
  {
   "cell_type": "code",
   "execution_count": 183,
   "metadata": {},
   "outputs": [
    {
     "name": "stdout",
     "output_type": "stream",
     "text": [
      "(10000, 32, 32, 3)\n",
      "(10000, 10)\n"
     ]
    }
   ],
   "source": [
    "print(xval.shape)\n",
    "print(yval_1hot.shape)"
   ]
  },
  {
   "cell_type": "code",
   "execution_count": 184,
   "metadata": {
    "scrolled": false
   },
   "outputs": [
    {
     "name": "stdout",
     "output_type": "stream",
     "text": [
      "(10000, 32, 32, 3)\n",
      "(10000, 10)\n"
     ]
    }
   ],
   "source": [
    "print(xtest.shape)\n",
    "print(ytest_1hot.shape)"
   ]
  },
  {
   "cell_type": "markdown",
   "metadata": {},
   "source": [
    "### Check one-hot encoding"
   ]
  },
  {
   "cell_type": "code",
   "execution_count": 185,
   "metadata": {},
   "outputs": [
    {
     "data": {
      "text/plain": [
       "(array([0., 0., 1., 0., 0., 0., 0., 0., 0., 0.], dtype=float32),\n",
       " array([0., 0., 0., 0., 0., 0., 0., 0., 1., 0.], dtype=float32),\n",
       " array([0., 0., 0., 0., 0., 0., 0., 0., 1., 0.], dtype=float32))"
      ]
     },
     "execution_count": 185,
     "metadata": {},
     "output_type": "execute_result"
    }
   ],
   "source": [
    "ytrain_1hot[0], yval_1hot[1], ytest_1hot[2]"
   ]
  },
  {
   "cell_type": "markdown",
   "metadata": {},
   "source": [
    "c. [20 Pnts]  In this task, you will implement an MLP network using keras.Sequential method with:\n",
    "\n",
    "- Batch size: 16. \n",
    "- Number of hidden layers: 1 (100 neuron).\n",
    "- use SGD optimizer, Learning Rate: 0.01.\n",
    "- #of epochs 10.\n",
    "- Use softmax layer for your output.\n",
    "- use Relu as your activation function.\n",
    "\n",
    "Keep all other hyperparameters (activation function, etc.) at their default settings.\n",
    "\n",
    "\n",
    "Find the performance (accuracy) of your model on the validation set and test set after training for 10 epochs."
   ]
  },
  {
   "cell_type": "code",
   "execution_count": 188,
   "metadata": {},
   "outputs": [
    {
     "name": "stdout",
     "output_type": "stream",
     "text": [
      "Epoch 1/10\n",
      "40000/40000 [==============================] - 14s 352us/step - loss: 1.9288 - acc: 0.3100\n",
      "Epoch 2/10\n",
      "40000/40000 [==============================] - 10s 250us/step - loss: 1.7587 - acc: 0.3797\n",
      "Epoch 3/10\n",
      "40000/40000 [==============================] - 11s 280us/step - loss: 1.6826 - acc: 0.4063\n",
      "Epoch 4/10\n",
      "40000/40000 [==============================] - 10s 252us/step - loss: 1.6304 - acc: 0.4265\n",
      "Epoch 5/10\n",
      "40000/40000 [==============================] - 10s 250us/step - loss: 1.5924 - acc: 0.4392\n",
      "Epoch 6/10\n",
      "40000/40000 [==============================] - 10s 255us/step - loss: 1.5597 - acc: 0.4502\n",
      "Epoch 7/10\n",
      "40000/40000 [==============================] - 10s 252us/step - loss: 1.5337 - acc: 0.4622\n",
      "Epoch 8/10\n",
      "40000/40000 [==============================] - 11s 278us/step - loss: 1.5114 - acc: 0.4684\n",
      "Epoch 9/10\n",
      "40000/40000 [==============================] - 11s 269us/step - loss: 1.4889 - acc: 0.4764\n",
      "Epoch 10/10\n",
      "40000/40000 [==============================] - 12s 292us/step - loss: 1.4715 - acc: 0.4823\n",
      "_________________________________________________________________\n",
      "Layer (type)                 Output Shape              Param #   \n",
      "=================================================================\n",
      "flatten_7 (Flatten)          (None, 3072)              0         \n",
      "_________________________________________________________________\n",
      "dense_88 (Dense)             (None, 100)               307300    \n",
      "_________________________________________________________________\n",
      "dense_89 (Dense)             (None, 10)                1010      \n",
      "=================================================================\n",
      "Total params: 308,310\n",
      "Trainable params: 308,310\n",
      "Non-trainable params: 0\n",
      "_________________________________________________________________\n",
      "10000/10000 [==============================] - 3s 280us/step\n"
     ]
    }
   ],
   "source": [
    "model = Sequential()\n",
    "model.add(Flatten(input_shape=(32, 32, 3)))\n",
    "model.add(Dense(100, activation='relu'))\n",
    "model.add(Dense(10, activation='softmax'))\n",
    "sgd = SGD(lr=0.01)\n",
    "model.compile(loss='categorical_crossentropy',optimizer=sgd,metrics=['accuracy'])\n",
    "model.fit(xtrain, ytrain_1hot, epochs=10)\n",
    "model.summary()\n"
   ]
  },
  {
   "cell_type": "markdown",
   "metadata": {},
   "source": [
    "d. [10 Pnts] How many parameters in the model implemented in b?"
   ]
  },
  {
   "cell_type": "markdown",
   "metadata": {},
   "source": [
    "<h3>The model has a total of 308,310 parameters</h3> "
   ]
  },
  {
   "cell_type": "markdown",
   "metadata": {},
   "source": [
    "e. [10 Pnts] At which epoch your model starts to overfit? Do you think early stopping would be a good solution to avoid overfitting in this case, explain?"
   ]
  },
  {
   "cell_type": "code",
   "execution_count": null,
   "metadata": {},
   "outputs": [],
   "source": []
  },
  {
   "cell_type": "markdown",
   "metadata": {
    "nbpresent": {
     "id": "342e80f3-8091-415c-b362-61cd2365ff7d"
    }
   },
   "source": [
    "f. [40 pts] You must have noticed that one needs to set several parameters—such as the number of hidden layers, the number of neurons in each hidden layer, the non-linearity or activation function to be used, etc. These quantities are known as the hyper-parameters of the network. They need to be specified by the user creating the neural network model.\n",
    "\n",
    "In this task, you will evaluate the performance of your network for varying values of hyperparameters. Keeping the rest of the values constant (and equal to the default values), adjust the values of parameters as described below. Find the performance (accuracy) of your model on the validation set and plot a trend graph for each of the following.\n",
    "\n",
    "- Batch size: 32, 64, 128 (default 32).\n",
    "- Number of hidden layers: 1, 2, 4 (default 2).\n",
    "- SGD optimizer, Learning Rate: 0.001, 0.01, 0.1, 1 (default 0.01).\n",
    "- Use 10 epochs for all the experiments.\n",
    "- activation function Relu for all the experiments.\n",
    "\n",
    "Use these values to create the most successful model you can (evaluated based on validation scores) and report its accuracy on the test data. Keep all other hyperparameters (number of epochs, activation function, etc.) at their default settings. "
   ]
  },
  {
   "cell_type": "code",
   "execution_count": 193,
   "metadata": {},
   "outputs": [
    {
     "name": "stdout",
     "output_type": "stream",
     "text": [
      "Epoch 1/10\n",
      "40000/40000 [==============================] - 16s 404us/step - loss: 1.9239 - acc: 0.3075\n",
      "Epoch 2/10\n",
      "40000/40000 [==============================] - 11s 272us/step - loss: 1.7615 - acc: 0.3750\n",
      "Epoch 3/10\n",
      "40000/40000 [==============================] - 11s 275us/step - loss: 1.6892 - acc: 0.4051\n",
      "Epoch 4/10\n",
      "40000/40000 [==============================] - 10s 255us/step - loss: 1.6383 - acc: 0.4237\n",
      "Epoch 5/10\n",
      "40000/40000 [==============================] - 10s 258us/step - loss: 1.5992 - acc: 0.4367\n",
      "Epoch 6/10\n",
      "40000/40000 [==============================] - 10s 262us/step - loss: 1.5674 - acc: 0.4489\n",
      "Epoch 7/10\n",
      "40000/40000 [==============================] - 10s 260us/step - loss: 1.5407 - acc: 0.4574\n",
      "Epoch 8/10\n",
      "40000/40000 [==============================] - 10s 261us/step - loss: 1.5142 - acc: 0.4659\n",
      "Epoch 9/10\n",
      "40000/40000 [==============================] - 11s 266us/step - loss: 1.4916 - acc: 0.4763\n",
      "Epoch 10/10\n",
      "40000/40000 [==============================] - 13s 316us/step - loss: 1.4720 - acc: 0.4813\n",
      "_________________________________________________________________\n",
      "Layer (type)                 Output Shape              Param #   \n",
      "=================================================================\n",
      "flatten_8 (Flatten)          (None, 3072)              0         \n",
      "_________________________________________________________________\n",
      "dense_90 (Dense)             (None, 100)               307300    \n",
      "_________________________________________________________________\n",
      "dense_91 (Dense)             (None, 10)                1010      \n",
      "=================================================================\n",
      "Total params: 308,310\n",
      "Trainable params: 308,310\n",
      "Non-trainable params: 0\n",
      "_________________________________________________________________\n",
      "10000/10000 [==============================] - 3s 311us/step\n",
      "Epoch 1/10\n",
      "40000/40000 [==============================] - 17s 422us/step - loss: 1.9191 - acc: 0.3110\n",
      "Epoch 2/10\n",
      "40000/40000 [==============================] - 12s 305us/step - loss: 1.7527 - acc: 0.3797\n",
      "Epoch 3/10\n",
      "40000/40000 [==============================] - 11s 270us/step - loss: 1.6813 - acc: 0.4079\n",
      "Epoch 4/10\n",
      "40000/40000 [==============================] - 13s 313us/step - loss: 1.6323 - acc: 0.4226\n",
      "Epoch 5/10\n",
      "40000/40000 [==============================] - 12s 303us/step - loss: 1.5937 - acc: 0.4389\n",
      "Epoch 6/10\n",
      "40000/40000 [==============================] - ETA: 0s - loss: 1.5659 - acc: 0.448 - 12s 301us/step - loss: 1.5659 - acc: 0.4485\n",
      "Epoch 7/10\n",
      "40000/40000 [==============================] - 13s 317us/step - loss: 1.5359 - acc: 0.4599\n",
      "Epoch 8/10\n",
      "40000/40000 [==============================] - 12s 291us/step - loss: 1.5142 - acc: 0.4668\n",
      "Epoch 9/10\n",
      "40000/40000 [==============================] - 12s 289us/step - loss: 1.4910 - acc: 0.4767\n",
      "Epoch 10/10\n",
      "40000/40000 [==============================] - 12s 292us/step - loss: 1.4729 - acc: 0.4829\n",
      "_________________________________________________________________\n",
      "Layer (type)                 Output Shape              Param #   \n",
      "=================================================================\n",
      "flatten_9 (Flatten)          (None, 3072)              0         \n",
      "_________________________________________________________________\n",
      "dense_92 (Dense)             (None, 100)               307300    \n",
      "_________________________________________________________________\n",
      "dense_93 (Dense)             (None, 10)                1010      \n",
      "=================================================================\n",
      "Total params: 308,310\n",
      "Trainable params: 308,310\n",
      "Non-trainable params: 0\n",
      "_________________________________________________________________\n",
      "10000/10000 [==============================] - 2s 190us/step\n",
      "Epoch 1/10\n",
      "40000/40000 [==============================] - 16s 409us/step - loss: 1.9192 - acc: 0.3093\n",
      "Epoch 2/10\n",
      "40000/40000 [==============================] - 12s 297us/step - loss: 1.7424 - acc: 0.3887\n",
      "Epoch 3/10\n",
      "40000/40000 [==============================] - 12s 300us/step - loss: 1.6684 - acc: 0.4141\n",
      "Epoch 4/10\n",
      "40000/40000 [==============================] - 12s 292us/step - loss: 1.6217 - acc: 0.4285\n",
      "Epoch 5/10\n",
      "40000/40000 [==============================] - 12s 301us/step - loss: 1.5833 - acc: 0.4442\n",
      "Epoch 6/10\n",
      "40000/40000 [==============================] - 12s 301us/step - loss: 1.5528 - acc: 0.4521\n",
      "Epoch 7/10\n",
      "40000/40000 [==============================] - 13s 326us/step - loss: 1.5267 - acc: 0.4656\n",
      "Epoch 8/10\n",
      "40000/40000 [==============================] - 13s 314us/step - loss: 1.5035 - acc: 0.4706\n",
      "Epoch 9/10\n",
      "40000/40000 [==============================] - 12s 310us/step - loss: 1.4794 - acc: 0.4792\n",
      "Epoch 10/10\n",
      "40000/40000 [==============================] - 12s 311us/step - loss: 1.4612 - acc: 0.4870\n",
      "_________________________________________________________________\n",
      "Layer (type)                 Output Shape              Param #   \n",
      "=================================================================\n",
      "flatten_10 (Flatten)         (None, 3072)              0         \n",
      "_________________________________________________________________\n",
      "dense_94 (Dense)             (None, 100)               307300    \n",
      "_________________________________________________________________\n",
      "dense_95 (Dense)             (None, 10)                1010      \n",
      "=================================================================\n",
      "Total params: 308,310\n",
      "Trainable params: 308,310\n",
      "Non-trainable params: 0\n",
      "_________________________________________________________________\n",
      "10000/10000 [==============================] - 2s 167us/step\n"
     ]
    },
    {
     "ename": "ValueError",
     "evalue": "Error when checking target: expected dense_97 to have 4 dimensions, but got array with shape (40000, 10)",
     "output_type": "error",
     "traceback": [
      "\u001b[0;31m---------------------------------------------------------------------------\u001b[0m",
      "\u001b[0;31mValueError\u001b[0m                                Traceback (most recent call last)",
      "\u001b[0;32m<ipython-input-193-d7ce756b0961>\u001b[0m in \u001b[0;36m<module>\u001b[0;34m\u001b[0m\n\u001b[1;32m     25\u001b[0m     \u001b[0mmodel\u001b[0m\u001b[0;34m.\u001b[0m\u001b[0madd\u001b[0m\u001b[0;34m(\u001b[0m\u001b[0mDense\u001b[0m\u001b[0;34m(\u001b[0m\u001b[0;36m10\u001b[0m\u001b[0;34m,\u001b[0m \u001b[0mactivation\u001b[0m\u001b[0;34m=\u001b[0m\u001b[0;34m'softmax'\u001b[0m\u001b[0;34m)\u001b[0m\u001b[0;34m)\u001b[0m\u001b[0;34m\u001b[0m\u001b[0;34m\u001b[0m\u001b[0m\n\u001b[1;32m     26\u001b[0m     \u001b[0mmodel\u001b[0m\u001b[0;34m.\u001b[0m\u001b[0mcompile\u001b[0m\u001b[0;34m(\u001b[0m\u001b[0mloss\u001b[0m\u001b[0;34m=\u001b[0m\u001b[0;34m'categorical_crossentropy'\u001b[0m\u001b[0;34m,\u001b[0m\u001b[0moptimizer\u001b[0m\u001b[0;34m=\u001b[0m\u001b[0msgd\u001b[0m\u001b[0;34m,\u001b[0m\u001b[0mmetrics\u001b[0m\u001b[0;34m=\u001b[0m\u001b[0;34m[\u001b[0m\u001b[0;34m'accuracy'\u001b[0m\u001b[0;34m]\u001b[0m\u001b[0;34m)\u001b[0m\u001b[0;34m\u001b[0m\u001b[0;34m\u001b[0m\u001b[0m\n\u001b[0;32m---> 27\u001b[0;31m     \u001b[0mmodel\u001b[0m\u001b[0;34m.\u001b[0m\u001b[0mfit\u001b[0m\u001b[0;34m(\u001b[0m\u001b[0mxtrain\u001b[0m\u001b[0;34m,\u001b[0m \u001b[0mytrain_1hot\u001b[0m\u001b[0;34m,\u001b[0m \u001b[0mepochs\u001b[0m\u001b[0;34m=\u001b[0m\u001b[0;36m10\u001b[0m\u001b[0;34m)\u001b[0m\u001b[0;34m\u001b[0m\u001b[0;34m\u001b[0m\u001b[0m\n\u001b[0m\u001b[1;32m     28\u001b[0m     \u001b[0mmodel\u001b[0m\u001b[0;34m.\u001b[0m\u001b[0msummary\u001b[0m\u001b[0;34m(\u001b[0m\u001b[0;34m)\u001b[0m\u001b[0;34m\u001b[0m\u001b[0;34m\u001b[0m\u001b[0m\n\u001b[1;32m     29\u001b[0m     \u001b[0mscore\u001b[0m \u001b[0;34m=\u001b[0m \u001b[0mmodel\u001b[0m\u001b[0;34m.\u001b[0m\u001b[0mevaluate\u001b[0m\u001b[0;34m(\u001b[0m\u001b[0mxtest\u001b[0m\u001b[0;34m,\u001b[0m \u001b[0mytest_1hot\u001b[0m\u001b[0;34m,\u001b[0m \u001b[0mbatch_size\u001b[0m\u001b[0;34m=\u001b[0m\u001b[0;36m32\u001b[0m\u001b[0;34m)\u001b[0m\u001b[0;34m\u001b[0m\u001b[0;34m\u001b[0m\u001b[0m\n",
      "\u001b[0;32m~/anaconda3/lib/python3.7/site-packages/keras/engine/training.py\u001b[0m in \u001b[0;36mfit\u001b[0;34m(self, x, y, batch_size, epochs, verbose, callbacks, validation_split, validation_data, shuffle, class_weight, sample_weight, initial_epoch, steps_per_epoch, validation_steps, **kwargs)\u001b[0m\n\u001b[1;32m    950\u001b[0m             \u001b[0msample_weight\u001b[0m\u001b[0;34m=\u001b[0m\u001b[0msample_weight\u001b[0m\u001b[0;34m,\u001b[0m\u001b[0;34m\u001b[0m\u001b[0;34m\u001b[0m\u001b[0m\n\u001b[1;32m    951\u001b[0m             \u001b[0mclass_weight\u001b[0m\u001b[0;34m=\u001b[0m\u001b[0mclass_weight\u001b[0m\u001b[0;34m,\u001b[0m\u001b[0;34m\u001b[0m\u001b[0;34m\u001b[0m\u001b[0m\n\u001b[0;32m--> 952\u001b[0;31m             batch_size=batch_size)\n\u001b[0m\u001b[1;32m    953\u001b[0m         \u001b[0;31m# Prepare validation data.\u001b[0m\u001b[0;34m\u001b[0m\u001b[0;34m\u001b[0m\u001b[0;34m\u001b[0m\u001b[0m\n\u001b[1;32m    954\u001b[0m         \u001b[0mdo_validation\u001b[0m \u001b[0;34m=\u001b[0m \u001b[0;32mFalse\u001b[0m\u001b[0;34m\u001b[0m\u001b[0;34m\u001b[0m\u001b[0m\n",
      "\u001b[0;32m~/anaconda3/lib/python3.7/site-packages/keras/engine/training.py\u001b[0m in \u001b[0;36m_standardize_user_data\u001b[0;34m(self, x, y, sample_weight, class_weight, check_array_lengths, batch_size)\u001b[0m\n\u001b[1;32m    787\u001b[0m                 \u001b[0mfeed_output_shapes\u001b[0m\u001b[0;34m,\u001b[0m\u001b[0;34m\u001b[0m\u001b[0;34m\u001b[0m\u001b[0m\n\u001b[1;32m    788\u001b[0m                 \u001b[0mcheck_batch_axis\u001b[0m\u001b[0;34m=\u001b[0m\u001b[0;32mFalse\u001b[0m\u001b[0;34m,\u001b[0m  \u001b[0;31m# Don't enforce the batch size.\u001b[0m\u001b[0;34m\u001b[0m\u001b[0;34m\u001b[0m\u001b[0m\n\u001b[0;32m--> 789\u001b[0;31m                 exception_prefix='target')\n\u001b[0m\u001b[1;32m    790\u001b[0m \u001b[0;34m\u001b[0m\u001b[0m\n\u001b[1;32m    791\u001b[0m             \u001b[0;31m# Generate sample-wise weight values given the `sample_weight` and\u001b[0m\u001b[0;34m\u001b[0m\u001b[0;34m\u001b[0m\u001b[0;34m\u001b[0m\u001b[0m\n",
      "\u001b[0;32m~/anaconda3/lib/python3.7/site-packages/keras/engine/training_utils.py\u001b[0m in \u001b[0;36mstandardize_input_data\u001b[0;34m(data, names, shapes, check_batch_axis, exception_prefix)\u001b[0m\n\u001b[1;32m    126\u001b[0m                         \u001b[0;34m': expected '\u001b[0m \u001b[0;34m+\u001b[0m \u001b[0mnames\u001b[0m\u001b[0;34m[\u001b[0m\u001b[0mi\u001b[0m\u001b[0;34m]\u001b[0m \u001b[0;34m+\u001b[0m \u001b[0;34m' to have '\u001b[0m \u001b[0;34m+\u001b[0m\u001b[0;34m\u001b[0m\u001b[0;34m\u001b[0m\u001b[0m\n\u001b[1;32m    127\u001b[0m                         \u001b[0mstr\u001b[0m\u001b[0;34m(\u001b[0m\u001b[0mlen\u001b[0m\u001b[0;34m(\u001b[0m\u001b[0mshape\u001b[0m\u001b[0;34m)\u001b[0m\u001b[0;34m)\u001b[0m \u001b[0;34m+\u001b[0m \u001b[0;34m' dimensions, but got array '\u001b[0m\u001b[0;34m\u001b[0m\u001b[0;34m\u001b[0m\u001b[0m\n\u001b[0;32m--> 128\u001b[0;31m                         'with shape ' + str(data_shape))\n\u001b[0m\u001b[1;32m    129\u001b[0m                 \u001b[0;32mif\u001b[0m \u001b[0;32mnot\u001b[0m \u001b[0mcheck_batch_axis\u001b[0m\u001b[0;34m:\u001b[0m\u001b[0;34m\u001b[0m\u001b[0;34m\u001b[0m\u001b[0m\n\u001b[1;32m    130\u001b[0m                     \u001b[0mdata_shape\u001b[0m \u001b[0;34m=\u001b[0m \u001b[0mdata_shape\u001b[0m\u001b[0;34m[\u001b[0m\u001b[0;36m1\u001b[0m\u001b[0;34m:\u001b[0m\u001b[0;34m]\u001b[0m\u001b[0;34m\u001b[0m\u001b[0;34m\u001b[0m\u001b[0m\n",
      "\u001b[0;31mValueError\u001b[0m: Error when checking target: expected dense_97 to have 4 dimensions, but got array with shape (40000, 10)"
     ]
    }
   ],
   "source": [
    "batch_sizes = [32, 64, 128]\n",
    "results = [] \n",
    "\n",
    "for num in batch_sizes:\n",
    "    sgd = SGD(lr=0.01)\n",
    "    model = Sequential()\n",
    "    model.add(Flatten(input_shape=(32, 32, 3)))\n",
    "    model.add(Dense(100, activation='relu'))\n",
    "    model.add(Dense(10, activation='softmax'))\n",
    "    model.compile(loss='categorical_crossentropy',optimizer=sgd,metrics=['accuracy'])\n",
    "    model.fit(xtrain, ytrain_1hot, epochs=10)\n",
    "    model.summary()\n",
    "    score = model.evaluate(xtest, ytest_1hot, batch_size=num)\n",
    "    results.append(score)\n",
    "\n",
    "print(results)\n",
    "    \n",
    "\n",
    "\n"
   ]
  },
  {
   "cell_type": "code",
   "execution_count": 199,
   "metadata": {},
   "outputs": [
    {
     "name": "stdout",
     "output_type": "stream",
     "text": [
      "Epoch 1/10\n",
      "40000/40000 [==============================] - 17s 434us/step - loss: 1.9254 - acc: 0.3100\n",
      "Epoch 2/10\n",
      "40000/40000 [==============================] - 11s 266us/step - loss: 1.7589 - acc: 0.3794\n",
      "Epoch 3/10\n",
      "40000/40000 [==============================] - 13s 323us/step - loss: 1.6835 - acc: 0.4071\n",
      "Epoch 4/10\n",
      "40000/40000 [==============================] - 16s 400us/step - loss: 1.6327 - acc: 0.4225\n",
      "Epoch 5/10\n",
      "40000/40000 [==============================] - 12s 303us/step - loss: 1.5960 - acc: 0.4362\n",
      "Epoch 6/10\n",
      "40000/40000 [==============================] - 10s 257us/step - loss: 1.5618 - acc: 0.4496\n",
      "Epoch 7/10\n",
      "40000/40000 [==============================] - 10s 259us/step - loss: 1.5404 - acc: 0.4591\n",
      "Epoch 8/10\n",
      "40000/40000 [==============================] - 11s 267us/step - loss: 1.5174 - acc: 0.4672\n",
      "Epoch 9/10\n",
      "40000/40000 [==============================] - 10s 262us/step - loss: 1.4980 - acc: 0.4729\n",
      "Epoch 10/10\n",
      "40000/40000 [==============================] - 11s 267us/step - loss: 1.4814 - acc: 0.4800\n",
      "_________________________________________________________________\n",
      "Layer (type)                 Output Shape              Param #   \n",
      "=================================================================\n",
      "flatten_11 (Flatten)         (None, 3072)              0         \n",
      "_________________________________________________________________\n",
      "dense_109 (Dense)            (None, 100)               307300    \n",
      "_________________________________________________________________\n",
      "dense_110 (Dense)            (None, 10)                1010      \n",
      "=================================================================\n",
      "Total params: 308,310\n",
      "Trainable params: 308,310\n",
      "Non-trainable params: 0\n",
      "_________________________________________________________________\n",
      "10000/10000 [==============================] - 2s 215us/step\n",
      "Epoch 1/10\n",
      "40000/40000 [==============================] - 15s 387us/step - loss: 1.9375 - acc: 0.3028\n",
      "Epoch 2/10\n",
      "40000/40000 [==============================] - 18s 447us/step - loss: 1.7543 - acc: 0.3756\n",
      "Epoch 3/10\n",
      "40000/40000 [==============================] - 17s 437us/step - loss: 1.6703 - acc: 0.4044\n",
      "Epoch 4/10\n",
      "40000/40000 [==============================] - 11s 280us/step - loss: 1.6208 - acc: 0.4241\n",
      "Epoch 5/10\n",
      "40000/40000 [==============================] - 12s 300us/step - loss: 1.5779 - acc: 0.4375\n",
      "Epoch 6/10\n",
      "40000/40000 [==============================] - 14s 342us/step - loss: 1.5438 - acc: 0.4547\n",
      "Epoch 7/10\n",
      "40000/40000 [==============================] - 14s 361us/step - loss: 1.5142 - acc: 0.4633\n",
      "Epoch 8/10\n",
      "40000/40000 [==============================] - 13s 326us/step - loss: 1.4929 - acc: 0.4676\n",
      "Epoch 9/10\n",
      "40000/40000 [==============================] - 13s 320us/step - loss: 1.4681 - acc: 0.4790\n",
      "Epoch 10/10\n",
      "40000/40000 [==============================] - 13s 323us/step - loss: 1.4490 - acc: 0.4843\n",
      "_________________________________________________________________\n",
      "Layer (type)                 Output Shape              Param #   \n",
      "=================================================================\n",
      "flatten_12 (Flatten)         (None, 3072)              0         \n",
      "_________________________________________________________________\n",
      "dense_111 (Dense)            (None, 100)               307300    \n",
      "_________________________________________________________________\n",
      "dense_112 (Dense)            (None, 100)               10100     \n",
      "_________________________________________________________________\n",
      "dense_113 (Dense)            (None, 10)                1010      \n",
      "=================================================================\n",
      "Total params: 318,410\n",
      "Trainable params: 318,410\n",
      "Non-trainable params: 0\n",
      "_________________________________________________________________\n",
      "10000/10000 [==============================] - 2s 244us/step\n",
      "Epoch 1/10\n",
      "40000/40000 [==============================] - 17s 419us/step - loss: 1.9704 - acc: 0.2861\n",
      "Epoch 2/10\n",
      "40000/40000 [==============================] - 13s 336us/step - loss: 1.7738 - acc: 0.3642\n",
      "Epoch 3/10\n",
      "40000/40000 [==============================] - 13s 336us/step - loss: 1.6866 - acc: 0.3988\n",
      "Epoch 4/10\n",
      "40000/40000 [==============================] - 13s 337us/step - loss: 1.6278 - acc: 0.4207\n",
      "Epoch 5/10\n",
      "40000/40000 [==============================] - 16s 395us/step - loss: 1.5833 - acc: 0.4338\n",
      "Epoch 6/10\n",
      "40000/40000 [==============================] - 14s 359us/step - loss: 1.5441 - acc: 0.4504\n",
      "Epoch 7/10\n",
      "40000/40000 [==============================] - 14s 354us/step - loss: 1.5154 - acc: 0.4584\n",
      "Epoch 8/10\n",
      "40000/40000 [==============================] - 14s 349us/step - loss: 1.4834 - acc: 0.4693\n",
      "Epoch 9/10\n",
      "40000/40000 [==============================] - 14s 346us/step - loss: 1.4586 - acc: 0.4790\n",
      "Epoch 10/10\n",
      "40000/40000 [==============================] - 14s 362us/step - loss: 1.4353 - acc: 0.4882\n",
      "_________________________________________________________________\n",
      "Layer (type)                 Output Shape              Param #   \n",
      "=================================================================\n",
      "flatten_13 (Flatten)         (None, 3072)              0         \n",
      "_________________________________________________________________\n",
      "dense_114 (Dense)            (None, 100)               307300    \n",
      "_________________________________________________________________\n",
      "dense_115 (Dense)            (None, 100)               10100     \n",
      "_________________________________________________________________\n",
      "dense_116 (Dense)            (None, 100)               10100     \n",
      "_________________________________________________________________\n",
      "dense_117 (Dense)            (None, 100)               10100     \n",
      "_________________________________________________________________\n",
      "dense_118 (Dense)            (None, 10)                1010      \n",
      "=================================================================\n",
      "Total params: 338,610\n",
      "Trainable params: 338,610\n",
      "Non-trainable params: 0\n",
      "_________________________________________________________________\n",
      "10000/10000 [==============================] - 2s 241us/step\n",
      "[[1.5179409519195557, 0.4617], [1.5535020584106445, 0.4395], [1.4959261959075927, 0.4714], [1.5287206296920777, 0.4612], [1.483368382835388, 0.4684], [1.4517746728897094, 0.479]]\n"
     ]
    }
   ],
   "source": [
    "num_layers = [1,2,4]\n",
    "\n",
    "for num in num_layers:\n",
    "    sgd = SGD(lr=0.01)\n",
    "    model = Sequential()\n",
    "    model.add(Flatten(input_shape=(32, 32, 3)))\n",
    "    for i in range(num):\n",
    "        model.add(Dense(100, activation='relu'))\n",
    "    \n",
    "    model.add(Dense(10, activation='softmax'))\n",
    "    model.compile(loss='categorical_crossentropy',optimizer=sgd,metrics=['accuracy'])\n",
    "    model.fit(xtrain, ytrain_1hot, epochs=10)\n",
    "    model.summary()\n",
    "    score = model.evaluate(xtest, ytest_1hot, batch_size=32)\n",
    "    results.append(score)\n",
    "\n",
    "print(results)"
   ]
  },
  {
   "cell_type": "code",
   "execution_count": null,
   "metadata": {},
   "outputs": [],
   "source": [
    "learn_rate = [0.001,0.01,0.1,1]\n",
    "\n",
    "for num in learn_rate:\n",
    "    sgd = SGD(lr=num)\n",
    "    model = Sequential()\n",
    "    model.add(Flatten(input_shape=(32, 32, 3)))\n",
    "    model.add(Dense(100, activation='relu'))\n",
    "    model.add(Dense(10, activation='softmax'))\n",
    "    model.compile(loss='categorical_crossentropy',optimizer=sgd,metrics=['accuracy'])\n",
    "    model.fit(xtrain, ytrain_1hot, epochs=10)\n",
    "    model.summary()\n",
    "    score = model.evaluate(xtest, ytest_1hot, batch_size=32)\n",
    "    results.append(score) \n",
    "    \n",
    "print(results)"
   ]
  },
  {
   "cell_type": "markdown",
   "metadata": {
    "collapsed": true
   },
   "source": [
    "## Par2 (This part is for Graduate students only, it is optional for undergraduates with extra cridets )"
   ]
  },
  {
   "cell_type": "markdown",
   "metadata": {},
   "source": [
    "In this part you are going to train a convolutional neural network on CIFAR-10  dataset from part 1, refer to part1 to use same training, validation and testing datasets splits. "
   ]
  },
  {
   "cell_type": "markdown",
   "metadata": {},
   "source": [
    "a. [30 points] Define the model as indicated in the code below. The model is defined as follows:\n",
    "\n",
    "- An input that is 32x32x3 dimensional vector.\n",
    "- Reshape the input as 32x32x3 images (it is a dataset with color images)\n",
    "- A convolutional layer with 32 filters of shape 12x12x3 and a ReLU non-linearity (with stride (2, 2) and no padding)\n",
    "- A convolutional layer with 64 filters of shape 5x5x32 and a ReLU non-linearity (with stride (1, 2) and padding to maintain size)\n",
    "- A max_pooling layer of shape 2x2\n",
    "- A fully connected layer taking all the outputs of the max_pooling layer to 1024 units and ReLU nonlinearity\n",
    "- A fully connected layer taking 1024 units to 10 no activation function (the softmax non-linearity will be included in the loss function rather than in the model) \n",
    "- Use AdamOptimizer \n",
    "- use the Accuracy as your metric... Accuray is simply defined as the fraction of data correctly classified\n",
    "- initially pick the learning rate to be 0.05 (if this learning rate does not work, pick different learning rate) with decay step of 0.95 every 2000 iterations\n",
    "\n",
    "\n",
    "write the code to train the model written, train for 15 epochs with a  batch size of 128. \n",
    "\n",
    "\n",
    "\n",
    "\n",
    "Hint: start from known architecture then modify the code to match the numbers listed above."
   ]
  },
  {
   "cell_type": "markdown",
   "metadata": {},
   "source": [
    "b. [10 points] Find better convolutional neural network architecture that give better results (at least enhancment of 5.0%) than the one built in part a (prove experimentally). "
   ]
  },
  {
   "cell_type": "code",
   "execution_count": null,
   "metadata": {},
   "outputs": [],
   "source": []
  }
 ],
 "metadata": {
  "kernelspec": {
   "display_name": "Python 3",
   "language": "python",
   "name": "python3"
  },
  "language_info": {
   "codemirror_mode": {
    "name": "ipython",
    "version": 3
   },
   "file_extension": ".py",
   "mimetype": "text/x-python",
   "name": "python",
   "nbconvert_exporter": "python",
   "pygments_lexer": "ipython3",
   "version": "3.7.3"
  }
 },
 "nbformat": 4,
 "nbformat_minor": 2
}
