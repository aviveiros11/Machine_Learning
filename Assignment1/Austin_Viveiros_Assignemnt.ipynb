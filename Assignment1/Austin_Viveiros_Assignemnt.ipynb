{
 "cells": [
  {
   "cell_type": "markdown",
   "metadata": {},
   "source": [
    "# Getting Python\n",
    "\n",
    "\n",
    "For this course, we are going to use Jupyter notebook as our environment for developing Python code.\n",
    "refer to https://jupyter.readthedocs.io/en/latest/content-quickstart.html for the instructions on how to install it. The easiest way is to install from Anaconda (https://www.anaconda.com/download/) website, make sure you install with Python 3.6 or above.\n",
    "\n",
    "Also, it is good for the students who are not familiar with python (or they need a quick refreshment) to follow Jim Bagrow tutorial http://bagrow.com/ds1/whirlwindtourpython/00-Title.html. \n",
    "\n",
    "All the assignments need to be written in Python 3.6 or above and can be run using Jupyter on Chrome, Safari or Firefox. These are the browsers that officially supported by jupyter.\n",
    "\n",
    "<u> Note: for this assignment, submit your local copy of this page, running on IPython. Submit the file to Blackboard under Assignment1 using this file format:</u> <b>Yourfirstname_lastname_Assignment1.ipynb</b> \n",
    "\n",
    "#### <b>Deadline</b>: <u>Thursday, Sept-12-2019 11:59 PM.</u>\n"
   ]
  },
  {
   "cell_type": "markdown",
   "metadata": {},
   "source": [
    "# Assignment 1"
   ]
  },
  {
   "cell_type": "markdown",
   "metadata": {},
   "source": [
    "##### Always import all needed libraries in the first cell"
   ]
  },
  {
   "cell_type": "code",
   "execution_count": 13,
   "metadata": {},
   "outputs": [],
   "source": [
    "import numpy as np \n",
    "import matplotlib.pyplot as plt\n",
    "import pandas as pd"
   ]
  },
  {
   "cell_type": "markdown",
   "metadata": {},
   "source": [
    "### Part 1, Q1\n",
    "\n",
    "1) Use the np.linspace function to create a row vector called Points containing exactly 499 values with values evenly spaced between -1 and 1.\n",
    "\n",
    "2) What is the value at index 53?"
   ]
  },
  {
   "cell_type": "code",
   "execution_count": 14,
   "metadata": {},
   "outputs": [
    {
     "name": "stdout",
     "output_type": "stream",
     "text": [
      "-0.7871485943775101\n"
     ]
    }
   ],
   "source": [
    "#Your code here\n",
    "Points = np.linspace(-1,1,499)\n",
    "print(Points[53])\n",
    "\n"
   ]
  },
  {
   "cell_type": "markdown",
   "metadata": {},
   "source": [
    "### Part 1, Q2 \n",
    "\n",
    "For a given array x of 3x3 dimensions, convert this array into a one-dimensional array.\n",
    "\n",
    "Hint: 1) The output should be [1 2 3 4 5 6 7 8 9].\n",
    "\n",
    "2) To get the dimension of an array, we use shape property. The dimension of the resulted array should be 1x9.\n"
   ]
  },
  {
   "cell_type": "code",
   "execution_count": 15,
   "metadata": {},
   "outputs": [
    {
     "name": "stdout",
     "output_type": "stream",
     "text": [
      "(3, 3)\n"
     ]
    },
    {
     "data": {
      "text/plain": [
       "array([[1, 2, 3, 4, 5, 6, 7, 8, 9]])"
      ]
     },
     "execution_count": 15,
     "metadata": {},
     "output_type": "execute_result"
    }
   ],
   "source": [
    "x = np.array([[1, 2, 3], [4, 5, 6],[7, 8, 9]])\n",
    "print(x.shape)\n",
    "\n",
    "#Your code here\n",
    "np.reshape(x,(1,9))\n",
    "\n"
   ]
  },
  {
   "cell_type": "markdown",
   "metadata": {},
   "source": [
    "### Part 1, Q3\n",
    "\n",
    "Create an 10 x 10 array of zeros and then \"frame\" it with a border of ones(The framed array's size should be 10x10)."
   ]
  },
  {
   "cell_type": "code",
   "execution_count": 16,
   "metadata": {},
   "outputs": [
    {
     "data": {
      "text/plain": [
       "array([[1., 1., 1., 1., 1., 1., 1., 1., 1., 1., 1., 1.],\n",
       "       [1., 0., 0., 0., 0., 0., 0., 0., 0., 0., 0., 1.],\n",
       "       [1., 0., 0., 0., 0., 0., 0., 0., 0., 0., 0., 1.],\n",
       "       [1., 0., 0., 0., 0., 0., 0., 0., 0., 0., 0., 1.],\n",
       "       [1., 0., 0., 0., 0., 0., 0., 0., 0., 0., 0., 1.],\n",
       "       [1., 0., 0., 0., 0., 0., 0., 0., 0., 0., 0., 1.],\n",
       "       [1., 0., 0., 0., 0., 0., 0., 0., 0., 0., 0., 1.],\n",
       "       [1., 0., 0., 0., 0., 0., 0., 0., 0., 0., 0., 1.],\n",
       "       [1., 0., 0., 0., 0., 0., 0., 0., 0., 0., 0., 1.],\n",
       "       [1., 0., 0., 0., 0., 0., 0., 0., 0., 0., 0., 1.],\n",
       "       [1., 0., 0., 0., 0., 0., 0., 0., 0., 0., 0., 1.],\n",
       "       [1., 1., 1., 1., 1., 1., 1., 1., 1., 1., 1., 1.]])"
      ]
     },
     "execution_count": 16,
     "metadata": {},
     "output_type": "execute_result"
    }
   ],
   "source": [
    "#Your code here\n",
    "zeros = (10,10)\n",
    "zeros = np.zeros(zeros)\n",
    "np.pad(zeros,1,'constant',constant_values=1)\n",
    "\n"
   ]
  },
  {
   "cell_type": "markdown",
   "metadata": {},
   "source": [
    "### Part 1, Q4\n",
    "\n",
    "\n",
    "Create an 8 x 8 array with a checkerboard pattern of zeros and ones using for loop or vstack.\n",
    "The expected output is given below:\n",
    "      <h4> [[1, 0, 1, 0, 1, 0, 1, 0],</h4>\n",
    "      <h4> [0, 1, 0, 1, 0, 1, 0, 1], </h4>\n",
    "      <h4> [1, 0, 1, 0, 1, 0, 1, 0], </h4>\n",
    "      <h4> [0, 1, 0, 1, 0, 1, 0, 1], </h4>\n",
    "      <h4> [1, 0, 1, 0, 1, 0, 1, 0], </h4>\n",
    "      <h4> [0, 1, 0, 1, 0, 1, 0, 1], </h4>\n",
    "      <h4> [1, 0, 1, 0, 1, 0, 1, 0], </h4>\n",
    "      <h4> [0, 1, 0, 1, 0, 1, 0, 1]] </h4>\n",
    "      \n",
    "      "
   ]
  },
  {
   "cell_type": "code",
   "execution_count": 17,
   "metadata": {},
   "outputs": [
    {
     "name": "stdout",
     "output_type": "stream",
     "text": [
      "[[1 0 1 0 1 0 1 0]\n",
      " [0 1 0 1 0 1 0 1]\n",
      " [1 0 1 0 1 0 1 0]\n",
      " [0 1 0 1 0 1 0 1]\n",
      " [1 0 1 0 1 0 1 0]\n",
      " [0 1 0 1 0 1 0 1]\n",
      " [1 0 1 0 1 0 1 0]\n",
      " [0 1 0 1 0 1 0 1]]\n"
     ]
    }
   ],
   "source": [
    "#Your code here\n",
    "checkerBoard = np.zeros((8,8),dtype=int)\n",
    "\n",
    "for index, line in enumerate(checkerBoard):\n",
    "    if index % 2 == 0:\n",
    "        for x in range(0,8,2):\n",
    "            line[x] = 1\n",
    "    else:\n",
    "        for x in range(1,8,2):\n",
    "            line[x] = 1\n",
    "        \n",
    "print(checkerBoard)"
   ]
  },
  {
   "cell_type": "markdown",
   "metadata": {},
   "source": [
    "### Part 1, Q5\n",
    "\n",
    "Create a function which creates an n×n array with (i,j)-entry equal to i+j.Here i is the index of row and j is the index of column. For example, if the index of i is 2 and the index of j is 5, then, the value of i+j will be 7."
   ]
  },
  {
   "cell_type": "code",
   "execution_count": 18,
   "metadata": {},
   "outputs": [
    {
     "name": "stdout",
     "output_type": "stream",
     "text": [
      "[[ 0  1  2  3  4  5  6  7]\n",
      " [ 1  2  3  4  5  6  7  8]\n",
      " [ 2  3  4  5  6  7  8  9]\n",
      " [ 3  4  5  6  7  8  9 10]\n",
      " [ 4  5  6  7  8  9 10 11]\n",
      " [ 5  6  7  8  9 10 11 12]\n",
      " [ 6  7  8  9 10 11 12 13]\n",
      " [ 7  8  9 10 11 12 13 14]]\n"
     ]
    }
   ],
   "source": [
    "#Your code here\n",
    "def nByn(x, y):\n",
    "    matrix = np.zeros((x,y),dtype=int)\n",
    "    for index, line in enumerate(matrix):\n",
    "        for x in range(0,line.size):\n",
    "            line[x] = index+x\n",
    "    return matrix\n",
    "       \n",
    "result = nByn(8,8)\n",
    "print(result)\n",
    "    \n",
    "\n"
   ]
  },
  {
   "cell_type": "markdown",
   "metadata": {},
   "source": [
    "### Part 1, Q6\n",
    "\n",
    "\n",
    "Define a matrix(2D array) of 100x100 and initialize this matrix by its row index. After that, define a vector(1D array) of length 100 and initialize this vector by the index of the element.\n",
    "\n",
    "Now, Use the dot function on a vector-vector, matrix-vector and matrix-matrix example. you can define your own dot function or use any build in functions. Dot function should peform dot product of two arrays (in this case between 2D and 1D array).\n",
    "\n",
    "Hint: One way of doing this is to use np.dot() function.\n",
    "You can have a look at this link: https://docs.scipy.org/doc/numpy/reference/generated/numpy.dot.html"
   ]
  },
  {
   "cell_type": "code",
   "execution_count": 19,
   "metadata": {},
   "outputs": [
    {
     "name": "stdout",
     "output_type": "stream",
     "text": [
      "Vector/Vector =  328350\n",
      "Vector/Matrix =  [328350 333300 338250 343200 348150 353100 358050 363000 367950 372900\n",
      " 377850 382800 387750 392700 397650 402600 407550 412500 417450 422400\n",
      " 427350 432300 437250 442200 447150 452100 457050 462000 466950 471900\n",
      " 476850 481800 486750 491700 496650 501600 506550 511500 516450 521400\n",
      " 526350 531300 536250 541200 546150 551100 556050 561000 565950 570900\n",
      " 575850 580800 585750 590700 595650 600600 605550 610500 615450 620400\n",
      " 625350 630300 635250 640200 645150 650100 655050 660000 664950 669900\n",
      " 674850 679800 684750 689700 694650 699600 704550 709500 714450 719400\n",
      " 724350 729300 734250 739200 744150 749100 754050 759000 763950 768900\n",
      " 773850 778800 783750 788700 793650 798600 803550 808500 813450 818400]\n",
      "Matrix/Matrix =  [[ 328350  333300  338250 ...  808500  813450  818400]\n",
      " [ 333300  338350  343400 ...  823150  828200  833250]\n",
      " [ 338250  343400  348550 ...  837800  842950  848100]\n",
      " ...\n",
      " [ 808500  823150  837800 ... 2229550 2244200 2258850]\n",
      " [ 813450  828200  842950 ... 2244200 2258950 2273700]\n",
      " [ 818400  833250  848100 ... 2258850 2273700 2288550]]\n"
     ]
    }
   ],
   "source": [
    "#Your code here\n",
    "matrix = nByn(100,100)\n",
    "oneD = np.arange(100)\n",
    "\n",
    "print(\"Vector/Vector = \",np.dot(oneD,oneD))\n",
    "print(\"Vector/Matrix = \",np.dot(oneD,matrix))\n",
    "print(\"Matrix/Matrix = \",np.dot(matrix,matrix))\n",
    "\n"
   ]
  },
  {
   "cell_type": "markdown",
   "metadata": {},
   "source": [
    "### Part 1, Q7\n",
    "\n",
    " For a given random 3x5 array using the np.random.randint() function,\n",
    " compute (without using for loop): the sum of all the entries, the sum of the rows and the sum of the columns. "
   ]
  },
  {
   "cell_type": "code",
   "execution_count": 20,
   "metadata": {},
   "outputs": [
    {
     "name": "stdout",
     "output_type": "stream",
     "text": [
      "Total sum of values = 397\n",
      "Total sum of rows = [ 53  59 110  82  93]\n",
      "Total sum of columns = [ 71 158 168]\n"
     ]
    }
   ],
   "source": [
    "arr= np.random.randint(50, size=(3, 5))\n",
    "#Your code here\n",
    "\n",
    "total = np.sum(arr)\n",
    "sumRows = np.sum(arr,axis=0)\n",
    "sumCols = np.sum(arr,axis=1)\n",
    "\n",
    "print(\"Total sum of values =\",total)\n",
    "print(\"Total sum of rows =\",sumRows)\n",
    "print(\"Total sum of columns =\",sumCols)\n"
   ]
  },
  {
   "cell_type": "markdown",
   "metadata": {},
   "source": [
    "### Part 1, Q8\n",
    "In this question, a 5x5 array has been created using np.random.randint(). The goal is to sort(ascending) all the rows using the second column. To be more specific,to sort the rows, we will use the values from column 2.\n",
    "Lets say you have an array like below:\n",
    "\n",
    "[[46 36 40 40 25]\n",
    "\n",
    " [43  3 17 23  4]\n",
    " \n",
    " [43 39  7  9  4]\n",
    " \n",
    " After the sorting, you will have output like below:\n",
    " \n",
    " [43  3 17 23  4]\n",
    " \n",
    " [46 36 40 40 25]\n",
    " \n",
    " [43 39  7  9  4]\n",
    " \n",
    "\n",
    "Hint: You can use argsort function. It is just a way. You can follow other way if you want."
   ]
  },
  {
   "cell_type": "code",
   "execution_count": 21,
   "metadata": {},
   "outputs": [
    {
     "name": "stdout",
     "output_type": "stream",
     "text": [
      "Unsorted:\n",
      "[[35 41 29 41 20]\n",
      " [16 46 20  7 35]\n",
      " [31 36 30  9  3]\n",
      " [39 46 34 49 15]\n",
      " [36  6 45 46 47]]\n",
      "\n",
      "Rows sorted by the second column:\n",
      "[[36  6 45 46 47]\n",
      " [31 36 30  9  3]\n",
      " [35 41 29 41 20]\n",
      " [16 46 20  7 35]\n",
      " [39 46 34 49 15]]\n"
     ]
    }
   ],
   "source": [
    "x = np.random.randint(50, size=(5, 5))\n",
    "\n",
    "print('Unsorted:\\n{}\\n'.format(x))\n",
    "#Your code here\n",
    "\n",
    "x = x[x[:,1].argsort()]\n",
    "\n",
    "#--------------------\n",
    "print('Rows sorted by the second column:\\n{}'.format(x))"
   ]
  },
  {
   "cell_type": "markdown",
   "metadata": {},
   "source": [
    "# Part 2\n",
    "For part2, you will be using the Breast Cancer Wisconsin (Diagnostic) Database to create a classifier that can help diagnose patients. First, read through the description of the dataset (below)."
   ]
  },
  {
   "cell_type": "code",
   "execution_count": 22,
   "metadata": {},
   "outputs": [],
   "source": [
    "from sklearn.datasets import load_breast_cancer"
   ]
  },
  {
   "cell_type": "markdown",
   "metadata": {},
   "source": [
    "The object returned by load_breast_cancer() is a scikit-learn Bunch object, which is similar to a dictionary, for information about dictionary refer to http://bagrow.com/ds1/whirlwindtourpython/07-Built-in-Data-Structures.html"
   ]
  },
  {
   "cell_type": "code",
   "execution_count": 23,
   "metadata": {},
   "outputs": [
    {
     "data": {
      "text/plain": [
       "dict_keys(['data', 'target', 'target_names', 'DESCR', 'feature_names', 'filename'])"
      ]
     },
     "execution_count": 23,
     "metadata": {},
     "output_type": "execute_result"
    }
   ],
   "source": [
    "cancer = load_breast_cancer()\n",
    "cancer.keys()"
   ]
  },
  {
   "cell_type": "code",
   "execution_count": 24,
   "metadata": {},
   "outputs": [
    {
     "data": {
      "text/plain": [
       "array([[1.799e+01, 1.038e+01, 1.228e+02, ..., 2.654e-01, 4.601e-01,\n",
       "        1.189e-01],\n",
       "       [2.057e+01, 1.777e+01, 1.329e+02, ..., 1.860e-01, 2.750e-01,\n",
       "        8.902e-02],\n",
       "       [1.969e+01, 2.125e+01, 1.300e+02, ..., 2.430e-01, 3.613e-01,\n",
       "        8.758e-02],\n",
       "       ...,\n",
       "       [1.660e+01, 2.808e+01, 1.083e+02, ..., 1.418e-01, 2.218e-01,\n",
       "        7.820e-02],\n",
       "       [2.060e+01, 2.933e+01, 1.401e+02, ..., 2.650e-01, 4.087e-01,\n",
       "        1.240e-01],\n",
       "       [7.760e+00, 2.454e+01, 4.792e+01, ..., 0.000e+00, 2.871e-01,\n",
       "        7.039e-02]])"
      ]
     },
     "execution_count": 24,
     "metadata": {},
     "output_type": "execute_result"
    }
   ],
   "source": [
    "cancer['data']"
   ]
  },
  {
   "cell_type": "code",
   "execution_count": 25,
   "metadata": {},
   "outputs": [
    {
     "data": {
      "text/plain": [
       "array(['malignant', 'benign'], dtype='<U9')"
      ]
     },
     "execution_count": 25,
     "metadata": {},
     "output_type": "execute_result"
    }
   ],
   "source": [
    "cancer['target_names']"
   ]
  },
  {
   "cell_type": "code",
   "execution_count": 26,
   "metadata": {},
   "outputs": [
    {
     "data": {
      "text/plain": [
       "array(['mean radius', 'mean texture', 'mean perimeter', 'mean area',\n",
       "       'mean smoothness', 'mean compactness', 'mean concavity',\n",
       "       'mean concave points', 'mean symmetry', 'mean fractal dimension',\n",
       "       'radius error', 'texture error', 'perimeter error', 'area error',\n",
       "       'smoothness error', 'compactness error', 'concavity error',\n",
       "       'concave points error', 'symmetry error',\n",
       "       'fractal dimension error', 'worst radius', 'worst texture',\n",
       "       'worst perimeter', 'worst area', 'worst smoothness',\n",
       "       'worst compactness', 'worst concavity', 'worst concave points',\n",
       "       'worst symmetry', 'worst fractal dimension'], dtype='<U23')"
      ]
     },
     "execution_count": 26,
     "metadata": {},
     "output_type": "execute_result"
    }
   ],
   "source": [
    "cancer['feature_names']"
   ]
  },
  {
   "cell_type": "code",
   "execution_count": 27,
   "metadata": {},
   "outputs": [
    {
     "data": {
      "text/plain": [
       "array([0, 0, 0, 0, 0, 0, 0, 0, 0, 0, 0, 0, 0, 0, 0, 0, 0, 0, 0, 1, 1, 1,\n",
       "       0, 0, 0, 0, 0, 0, 0, 0, 0, 0, 0, 0, 0, 0, 0, 1, 0, 0, 0, 0, 0, 0,\n",
       "       0, 0, 1, 0, 1, 1, 1, 1, 1, 0, 0, 1, 0, 0, 1, 1, 1, 1, 0, 1, 0, 0,\n",
       "       1, 1, 1, 1, 0, 1, 0, 0, 1, 0, 1, 0, 0, 1, 1, 1, 0, 0, 1, 0, 0, 0,\n",
       "       1, 1, 1, 0, 1, 1, 0, 0, 1, 1, 1, 0, 0, 1, 1, 1, 1, 0, 1, 1, 0, 1,\n",
       "       1, 1, 1, 1, 1, 1, 1, 0, 0, 0, 1, 0, 0, 1, 1, 1, 0, 0, 1, 0, 1, 0,\n",
       "       0, 1, 0, 0, 1, 1, 0, 1, 1, 0, 1, 1, 1, 1, 0, 1, 1, 1, 1, 1, 1, 1,\n",
       "       1, 1, 0, 1, 1, 1, 1, 0, 0, 1, 0, 1, 1, 0, 0, 1, 1, 0, 0, 1, 1, 1,\n",
       "       1, 0, 1, 1, 0, 0, 0, 1, 0, 1, 0, 1, 1, 1, 0, 1, 1, 0, 0, 1, 0, 0,\n",
       "       0, 0, 1, 0, 0, 0, 1, 0, 1, 0, 1, 1, 0, 1, 0, 0, 0, 0, 1, 1, 0, 0,\n",
       "       1, 1, 1, 0, 1, 1, 1, 1, 1, 0, 0, 1, 1, 0, 1, 1, 0, 0, 1, 0, 1, 1,\n",
       "       1, 1, 0, 1, 1, 1, 1, 1, 0, 1, 0, 0, 0, 0, 0, 0, 0, 0, 0, 0, 0, 0,\n",
       "       0, 0, 1, 1, 1, 1, 1, 1, 0, 1, 0, 1, 1, 0, 1, 1, 0, 1, 0, 0, 1, 1,\n",
       "       1, 1, 1, 1, 1, 1, 1, 1, 1, 1, 1, 0, 1, 1, 0, 1, 0, 1, 1, 1, 1, 1,\n",
       "       1, 1, 1, 1, 1, 1, 1, 1, 1, 0, 1, 1, 1, 0, 1, 0, 1, 1, 1, 1, 0, 0,\n",
       "       0, 1, 1, 1, 1, 0, 1, 0, 1, 0, 1, 1, 1, 0, 1, 1, 1, 1, 1, 1, 1, 0,\n",
       "       0, 0, 1, 1, 1, 1, 1, 1, 1, 1, 1, 1, 1, 0, 0, 1, 0, 0, 0, 1, 0, 0,\n",
       "       1, 1, 1, 1, 1, 0, 1, 1, 1, 1, 1, 0, 1, 1, 1, 0, 1, 1, 0, 0, 1, 1,\n",
       "       1, 1, 1, 1, 0, 1, 1, 1, 1, 1, 1, 1, 0, 1, 1, 1, 1, 1, 0, 1, 1, 0,\n",
       "       1, 1, 1, 1, 1, 1, 1, 1, 1, 1, 1, 1, 0, 1, 0, 0, 1, 0, 1, 1, 1, 1,\n",
       "       1, 0, 1, 1, 0, 1, 0, 1, 1, 0, 1, 0, 1, 1, 1, 1, 1, 1, 1, 1, 0, 0,\n",
       "       1, 1, 1, 1, 1, 1, 0, 1, 1, 1, 1, 1, 1, 1, 1, 1, 1, 0, 1, 1, 1, 1,\n",
       "       1, 1, 1, 0, 1, 0, 1, 1, 0, 1, 1, 1, 1, 1, 0, 0, 1, 0, 1, 0, 1, 1,\n",
       "       1, 1, 1, 0, 1, 1, 0, 1, 0, 1, 0, 0, 1, 1, 1, 0, 1, 1, 1, 1, 1, 1,\n",
       "       1, 1, 1, 1, 1, 0, 1, 0, 0, 1, 1, 1, 1, 1, 1, 1, 1, 1, 1, 1, 1, 1,\n",
       "       1, 1, 1, 1, 1, 1, 1, 1, 1, 1, 1, 1, 0, 0, 0, 0, 0, 0, 1])"
      ]
     },
     "execution_count": 27,
     "metadata": {},
     "output_type": "execute_result"
    }
   ],
   "source": [
    "cancer['target']"
   ]
  },
  {
   "cell_type": "markdown",
   "metadata": {},
   "source": [
    "#### Part2 - Q1\n",
    "\n",
    "How many features does the breast cancer dataset have?\n",
    "This function should return an integer."
   ]
  },
  {
   "cell_type": "code",
   "execution_count": 28,
   "metadata": {},
   "outputs": [
    {
     "name": "stdout",
     "output_type": "stream",
     "text": [
      "30\n"
     ]
    }
   ],
   "source": [
    "#Your code here\n",
    "def numFeatures():\n",
    "    return len(cancer['feature_names'])\n",
    "\n",
    "print(numFeatures())\n",
    "\n"
   ]
  },
  {
   "cell_type": "markdown",
   "metadata": {},
   "source": [
    "#### Part2 - Q2\n",
    "\n",
    "Scikit-learn is machine learning library for the Python programming language. \n",
    "\n",
    "Convert the sklearn.dataset cancer to a DataFrame.\n",
    "\n",
    "This function should return a (569, 31) DataFrame with\n",
    "columns =\n",
    "\n",
    "['mean radius', 'mean texture', 'mean perimeter', 'mean area',\n",
    "'mean smoothness', 'mean compactness', 'mean concavity',\n",
    "'mean concave points', 'mean symmetry', 'mean fractal dimension',\n",
    "'radius error', 'texture error', 'perimeter error', 'area error',\n",
    "'smoothness error', 'compactness error', 'concavity error',\n",
    "'concave points error', 'symmetry error', 'fractal dimension error',\n",
    "'worst radius', 'worst texture', 'worst perimeter', 'worst area',\n",
    "'worst smoothness', 'worst compactness', 'worst concavity',\n",
    "'worst concave points', 'worst symmetry', 'worst fractal dimension',\n",
    "'target']"
   ]
  },
  {
   "cell_type": "code",
   "execution_count": 29,
   "metadata": {},
   "outputs": [
    {
     "name": "stdout",
     "output_type": "stream",
     "text": [
      "Features Column Size: 31\n",
      "Data Column Size: 31.0\n",
      "     mean radius  mean texture  mean perimeter  mean area  mean smoothness  \\\n",
      "0         17.990         10.38          122.80     1001.0          0.11840   \n",
      "1         20.570         17.77          132.90     1326.0          0.08474   \n",
      "2         19.690         21.25          130.00     1203.0          0.10960   \n",
      "3         11.420         20.38           77.58      386.1          0.14250   \n",
      "4         20.290         14.34          135.10     1297.0          0.10030   \n",
      "5         12.450         15.70           82.57      477.1          0.12780   \n",
      "6         18.250         19.98          119.60     1040.0          0.09463   \n",
      "7         13.710         20.83           90.20      577.9          0.11890   \n",
      "8         13.000         21.82           87.50      519.8          0.12730   \n",
      "9         12.460         24.04           83.97      475.9          0.11860   \n",
      "10        16.020         23.24          102.70      797.8          0.08206   \n",
      "11        15.780         17.89          103.60      781.0          0.09710   \n",
      "12        19.170         24.80          132.40     1123.0          0.09740   \n",
      "13        15.850         23.95          103.70      782.7          0.08401   \n",
      "14        13.730         22.61           93.60      578.3          0.11310   \n",
      "15        14.540         27.54           96.73      658.8          0.11390   \n",
      "16        14.680         20.13           94.74      684.5          0.09867   \n",
      "17        16.130         20.68          108.10      798.8          0.11700   \n",
      "18        19.810         22.15          130.00     1260.0          0.09831   \n",
      "19        13.540         14.36           87.46      566.3          0.09779   \n",
      "20        13.080         15.71           85.63      520.0          0.10750   \n",
      "21         9.504         12.44           60.34      273.9          0.10240   \n",
      "22        15.340         14.26          102.50      704.4          0.10730   \n",
      "23        21.160         23.04          137.20     1404.0          0.09428   \n",
      "24        16.650         21.38          110.00      904.6          0.11210   \n",
      "25        17.140         16.40          116.00      912.7          0.11860   \n",
      "26        14.580         21.53           97.41      644.8          0.10540   \n",
      "27        18.610         20.25          122.10     1094.0          0.09440   \n",
      "28        15.300         25.27          102.40      732.4          0.10820   \n",
      "29        17.570         15.05          115.00      955.1          0.09847   \n",
      "..           ...           ...             ...        ...              ...   \n",
      "539        7.691         25.44           48.34      170.4          0.08668   \n",
      "540       11.540         14.44           74.65      402.9          0.09984   \n",
      "541       14.470         24.99           95.81      656.4          0.08837   \n",
      "542       14.740         25.42           94.70      668.6          0.08275   \n",
      "543       13.210         28.06           84.88      538.4          0.08671   \n",
      "544       13.870         20.70           89.77      584.8          0.09578   \n",
      "545       13.620         23.23           87.19      573.2          0.09246   \n",
      "546       10.320         16.35           65.31      324.9          0.09434   \n",
      "547       10.260         16.58           65.85      320.8          0.08877   \n",
      "548        9.683         19.34           61.05      285.7          0.08491   \n",
      "549       10.820         24.21           68.89      361.6          0.08192   \n",
      "550       10.860         21.48           68.51      360.5          0.07431   \n",
      "551       11.130         22.44           71.49      378.4          0.09566   \n",
      "552       12.770         29.43           81.35      507.9          0.08276   \n",
      "553        9.333         21.94           59.01      264.0          0.09240   \n",
      "554       12.880         28.92           82.50      514.3          0.08123   \n",
      "555       10.290         27.61           65.67      321.4          0.09030   \n",
      "556       10.160         19.59           64.73      311.7          0.10030   \n",
      "557        9.423         27.88           59.26      271.3          0.08123   \n",
      "558       14.590         22.68           96.39      657.1          0.08473   \n",
      "559       11.510         23.93           74.52      403.5          0.09261   \n",
      "560       14.050         27.15           91.38      600.4          0.09929   \n",
      "561       11.200         29.37           70.67      386.0          0.07449   \n",
      "562       15.220         30.62          103.40      716.9          0.10480   \n",
      "563       20.920         25.09          143.00     1347.0          0.10990   \n",
      "564       21.560         22.39          142.00     1479.0          0.11100   \n",
      "565       20.130         28.25          131.20     1261.0          0.09780   \n",
      "566       16.600         28.08          108.30      858.1          0.08455   \n",
      "567       20.600         29.33          140.10     1265.0          0.11780   \n",
      "568        7.760         24.54           47.92      181.0          0.05263   \n",
      "\n",
      "     mean compactness  mean concavity  mean concave points  mean symmetry  \\\n",
      "0             0.27760        0.300100             0.147100         0.2419   \n",
      "1             0.07864        0.086900             0.070170         0.1812   \n",
      "2             0.15990        0.197400             0.127900         0.2069   \n",
      "3             0.28390        0.241400             0.105200         0.2597   \n",
      "4             0.13280        0.198000             0.104300         0.1809   \n",
      "5             0.17000        0.157800             0.080890         0.2087   \n",
      "6             0.10900        0.112700             0.074000         0.1794   \n",
      "7             0.16450        0.093660             0.059850         0.2196   \n",
      "8             0.19320        0.185900             0.093530         0.2350   \n",
      "9             0.23960        0.227300             0.085430         0.2030   \n",
      "10            0.06669        0.032990             0.033230         0.1528   \n",
      "11            0.12920        0.099540             0.066060         0.1842   \n",
      "12            0.24580        0.206500             0.111800         0.2397   \n",
      "13            0.10020        0.099380             0.053640         0.1847   \n",
      "14            0.22930        0.212800             0.080250         0.2069   \n",
      "15            0.15950        0.163900             0.073640         0.2303   \n",
      "16            0.07200        0.073950             0.052590         0.1586   \n",
      "17            0.20220        0.172200             0.102800         0.2164   \n",
      "18            0.10270        0.147900             0.094980         0.1582   \n",
      "19            0.08129        0.066640             0.047810         0.1885   \n",
      "20            0.12700        0.045680             0.031100         0.1967   \n",
      "21            0.06492        0.029560             0.020760         0.1815   \n",
      "22            0.21350        0.207700             0.097560         0.2521   \n",
      "23            0.10220        0.109700             0.086320         0.1769   \n",
      "24            0.14570        0.152500             0.091700         0.1995   \n",
      "25            0.22760        0.222900             0.140100         0.3040   \n",
      "26            0.18680        0.142500             0.087830         0.2252   \n",
      "27            0.10660        0.149000             0.077310         0.1697   \n",
      "28            0.16970        0.168300             0.087510         0.1926   \n",
      "29            0.11570        0.098750             0.079530         0.1739   \n",
      "..                ...             ...                  ...            ...   \n",
      "539           0.11990        0.092520             0.013640         0.2037   \n",
      "540           0.11200        0.067370             0.025940         0.1818   \n",
      "541           0.12300        0.100900             0.038900         0.1872   \n",
      "542           0.07214        0.041050             0.030270         0.1840   \n",
      "543           0.06877        0.029870             0.032750         0.1628   \n",
      "544           0.10180        0.036880             0.023690         0.1620   \n",
      "545           0.06747        0.029740             0.024430         0.1664   \n",
      "546           0.04994        0.010120             0.005495         0.1885   \n",
      "547           0.08066        0.043580             0.024380         0.1669   \n",
      "548           0.05030        0.023370             0.009615         0.1580   \n",
      "549           0.06602        0.015480             0.008160         0.1976   \n",
      "550           0.04227        0.000000             0.000000         0.1661   \n",
      "551           0.08194        0.048240             0.022570         0.2030   \n",
      "552           0.04234        0.019970             0.014990         0.1539   \n",
      "553           0.05605        0.039960             0.012820         0.1692   \n",
      "554           0.05824        0.061950             0.023430         0.1566   \n",
      "555           0.07658        0.059990             0.027380         0.1593   \n",
      "556           0.07504        0.005025             0.011160         0.1791   \n",
      "557           0.04971        0.000000             0.000000         0.1742   \n",
      "558           0.13300        0.102900             0.037360         0.1454   \n",
      "559           0.10210        0.111200             0.041050         0.1388   \n",
      "560           0.11260        0.044620             0.043040         0.1537   \n",
      "561           0.03558        0.000000             0.000000         0.1060   \n",
      "562           0.20870        0.255000             0.094290         0.2128   \n",
      "563           0.22360        0.317400             0.147400         0.2149   \n",
      "564           0.11590        0.243900             0.138900         0.1726   \n",
      "565           0.10340        0.144000             0.097910         0.1752   \n",
      "566           0.10230        0.092510             0.053020         0.1590   \n",
      "567           0.27700        0.351400             0.152000         0.2397   \n",
      "568           0.04362        0.000000             0.000000         0.1587   \n",
      "\n",
      "     mean fractal dimension  ...  worst texture  worst perimeter  worst area  \\\n",
      "0                   0.07871  ...          17.33           184.60      2019.0   \n",
      "1                   0.05667  ...          23.41           158.80      1956.0   \n",
      "2                   0.05999  ...          25.53           152.50      1709.0   \n",
      "3                   0.09744  ...          26.50            98.87       567.7   \n",
      "4                   0.05883  ...          16.67           152.20      1575.0   \n",
      "5                   0.07613  ...          23.75           103.40       741.6   \n",
      "6                   0.05742  ...          27.66           153.20      1606.0   \n",
      "7                   0.07451  ...          28.14           110.60       897.0   \n",
      "8                   0.07389  ...          30.73           106.20       739.3   \n",
      "9                   0.08243  ...          40.68            97.65       711.4   \n",
      "10                  0.05697  ...          33.88           123.80      1150.0   \n",
      "11                  0.06082  ...          27.28           136.50      1299.0   \n",
      "12                  0.07800  ...          29.94           151.70      1332.0   \n",
      "13                  0.05338  ...          27.66           112.00       876.5   \n",
      "14                  0.07682  ...          32.01           108.80       697.7   \n",
      "15                  0.07077  ...          37.13           124.10       943.2   \n",
      "16                  0.05922  ...          30.88           123.40      1138.0   \n",
      "17                  0.07356  ...          31.48           136.80      1315.0   \n",
      "18                  0.05395  ...          30.88           186.80      2398.0   \n",
      "19                  0.05766  ...          19.26            99.70       711.2   \n",
      "20                  0.06811  ...          20.49            96.09       630.5   \n",
      "21                  0.06905  ...          15.66            65.13       314.9   \n",
      "22                  0.07032  ...          19.08           125.10       980.9   \n",
      "23                  0.05278  ...          35.59           188.00      2615.0   \n",
      "24                  0.06330  ...          31.56           177.00      2215.0   \n",
      "25                  0.07413  ...          21.40           152.40      1461.0   \n",
      "26                  0.06924  ...          33.21           122.40       896.9   \n",
      "27                  0.05699  ...          27.26           139.90      1403.0   \n",
      "28                  0.06540  ...          36.71           149.30      1269.0   \n",
      "29                  0.06149  ...          19.52           134.90      1227.0   \n",
      "..                      ...  ...            ...              ...         ...   \n",
      "539                 0.07751  ...          31.89            54.49       223.6   \n",
      "540                 0.06782  ...          19.68            78.78       457.8   \n",
      "541                 0.06341  ...          31.73           113.50       808.9   \n",
      "542                 0.05680  ...          32.29           107.40       826.4   \n",
      "543                 0.05781  ...          37.17            92.48       629.6   \n",
      "544                 0.06688  ...          24.75            99.17       688.6   \n",
      "545                 0.05801  ...          29.09            97.58       729.8   \n",
      "546                 0.06201  ...          21.77            71.12       384.9   \n",
      "547                 0.06714  ...          22.04            71.08       357.4   \n",
      "548                 0.06235  ...          25.59            69.10       364.2   \n",
      "549                 0.06328  ...          31.45            83.90       505.6   \n",
      "550                 0.05948  ...          24.77            74.08       412.3   \n",
      "551                 0.06552  ...          28.26            77.80       436.6   \n",
      "552                 0.05637  ...          36.00            88.10       594.7   \n",
      "553                 0.06576  ...          25.05            62.86       295.8   \n",
      "554                 0.05708  ...          35.74            88.84       595.7   \n",
      "555                 0.06127  ...          34.91            69.57       357.6   \n",
      "556                 0.06331  ...          22.88            67.88       347.3   \n",
      "557                 0.06059  ...          34.24            66.50       330.6   \n",
      "558                 0.06147  ...          27.27           105.90       733.5   \n",
      "559                 0.06570  ...          37.16            82.28       474.2   \n",
      "560                 0.06171  ...          33.17           100.20       706.7   \n",
      "561                 0.05502  ...          38.30            75.19       439.6   \n",
      "562                 0.07152  ...          42.79           128.70       915.0   \n",
      "563                 0.06879  ...          29.41           179.10      1819.0   \n",
      "564                 0.05623  ...          26.40           166.10      2027.0   \n",
      "565                 0.05533  ...          38.25           155.00      1731.0   \n",
      "566                 0.05648  ...          34.12           126.70      1124.0   \n",
      "567                 0.07016  ...          39.42           184.60      1821.0   \n",
      "568                 0.05884  ...          30.37            59.16       268.6   \n",
      "\n",
      "     worst smoothness  worst compactness  worst concavity  \\\n",
      "0             0.16220            0.66560          0.71190   \n",
      "1             0.12380            0.18660          0.24160   \n",
      "2             0.14440            0.42450          0.45040   \n",
      "3             0.20980            0.86630          0.68690   \n",
      "4             0.13740            0.20500          0.40000   \n",
      "5             0.17910            0.52490          0.53550   \n",
      "6             0.14420            0.25760          0.37840   \n",
      "7             0.16540            0.36820          0.26780   \n",
      "8             0.17030            0.54010          0.53900   \n",
      "9             0.18530            1.05800          1.10500   \n",
      "10            0.11810            0.15510          0.14590   \n",
      "11            0.13960            0.56090          0.39650   \n",
      "12            0.10370            0.39030          0.36390   \n",
      "13            0.11310            0.19240          0.23220   \n",
      "14            0.16510            0.77250          0.69430   \n",
      "15            0.16780            0.65770          0.70260   \n",
      "16            0.14640            0.18710          0.29140   \n",
      "17            0.17890            0.42330          0.47840   \n",
      "18            0.15120            0.31500          0.53720   \n",
      "19            0.14400            0.17730          0.23900   \n",
      "20            0.13120            0.27760          0.18900   \n",
      "21            0.13240            0.11480          0.08867   \n",
      "22            0.13900            0.59540          0.63050   \n",
      "23            0.14010            0.26000          0.31550   \n",
      "24            0.18050            0.35780          0.46950   \n",
      "25            0.15450            0.39490          0.38530   \n",
      "26            0.15250            0.66430          0.55390   \n",
      "27            0.13380            0.21170          0.34460   \n",
      "28            0.16410            0.61100          0.63350   \n",
      "29            0.12550            0.28120          0.24890   \n",
      "..                ...                ...              ...   \n",
      "539           0.15960            0.30640          0.33930   \n",
      "540           0.13450            0.21180          0.17970   \n",
      "541           0.13400            0.42020          0.40400   \n",
      "542           0.10600            0.13760          0.16110   \n",
      "543           0.10720            0.13810          0.10620   \n",
      "544           0.12640            0.20370          0.13770   \n",
      "545           0.12160            0.15170          0.10490   \n",
      "546           0.12850            0.08842          0.04384   \n",
      "547           0.14610            0.22460          0.17830   \n",
      "548           0.11990            0.09546          0.09350   \n",
      "549           0.12040            0.16330          0.06194   \n",
      "550           0.10010            0.07348          0.00000   \n",
      "551           0.10870            0.17820          0.15640   \n",
      "552           0.12340            0.10640          0.08653   \n",
      "553           0.11030            0.08298          0.07993   \n",
      "554           0.12270            0.16200          0.24390   \n",
      "555           0.13840            0.17100          0.20000   \n",
      "556           0.12650            0.12000          0.01005   \n",
      "557           0.10730            0.07158          0.00000   \n",
      "558           0.10260            0.31710          0.36620   \n",
      "559           0.12980            0.25170          0.36300   \n",
      "560           0.12410            0.22640          0.13260   \n",
      "561           0.09267            0.05494          0.00000   \n",
      "562           0.14170            0.79170          1.17000   \n",
      "563           0.14070            0.41860          0.65990   \n",
      "564           0.14100            0.21130          0.41070   \n",
      "565           0.11660            0.19220          0.32150   \n",
      "566           0.11390            0.30940          0.34030   \n",
      "567           0.16500            0.86810          0.93870   \n",
      "568           0.08996            0.06444          0.00000   \n",
      "\n",
      "     worst concave points  worst symmetry  worst fractal dimension  target  \n",
      "0                 0.26540          0.4601                  0.11890     0.0  \n",
      "1                 0.18600          0.2750                  0.08902     0.0  \n",
      "2                 0.24300          0.3613                  0.08758     0.0  \n",
      "3                 0.25750          0.6638                  0.17300     0.0  \n",
      "4                 0.16250          0.2364                  0.07678     0.0  \n",
      "5                 0.17410          0.3985                  0.12440     0.0  \n",
      "6                 0.19320          0.3063                  0.08368     0.0  \n",
      "7                 0.15560          0.3196                  0.11510     0.0  \n",
      "8                 0.20600          0.4378                  0.10720     0.0  \n",
      "9                 0.22100          0.4366                  0.20750     0.0  \n",
      "10                0.09975          0.2948                  0.08452     0.0  \n",
      "11                0.18100          0.3792                  0.10480     0.0  \n",
      "12                0.17670          0.3176                  0.10230     0.0  \n",
      "13                0.11190          0.2809                  0.06287     0.0  \n",
      "14                0.22080          0.3596                  0.14310     0.0  \n",
      "15                0.17120          0.4218                  0.13410     0.0  \n",
      "16                0.16090          0.3029                  0.08216     0.0  \n",
      "17                0.20730          0.3706                  0.11420     0.0  \n",
      "18                0.23880          0.2768                  0.07615     0.0  \n",
      "19                0.12880          0.2977                  0.07259     1.0  \n",
      "20                0.07283          0.3184                  0.08183     1.0  \n",
      "21                0.06227          0.2450                  0.07773     1.0  \n",
      "22                0.23930          0.4667                  0.09946     0.0  \n",
      "23                0.20090          0.2822                  0.07526     0.0  \n",
      "24                0.20950          0.3613                  0.09564     0.0  \n",
      "25                0.25500          0.4066                  0.10590     0.0  \n",
      "26                0.27010          0.4264                  0.12750     0.0  \n",
      "27                0.14900          0.2341                  0.07421     0.0  \n",
      "28                0.20240          0.4027                  0.09876     0.0  \n",
      "29                0.14560          0.2756                  0.07919     0.0  \n",
      "..                    ...             ...                      ...     ...  \n",
      "539               0.05000          0.2790                  0.10660     1.0  \n",
      "540               0.06918          0.2329                  0.08134     1.0  \n",
      "541               0.12050          0.3187                  0.10230     1.0  \n",
      "542               0.10950          0.2722                  0.06956     1.0  \n",
      "543               0.07958          0.2473                  0.06443     1.0  \n",
      "544               0.06845          0.2249                  0.08492     1.0  \n",
      "545               0.07174          0.2642                  0.06953     1.0  \n",
      "546               0.02381          0.2681                  0.07399     1.0  \n",
      "547               0.08333          0.2691                  0.09479     1.0  \n",
      "548               0.03846          0.2552                  0.07920     1.0  \n",
      "549               0.03264          0.3059                  0.07626     1.0  \n",
      "550               0.00000          0.2458                  0.06592     1.0  \n",
      "551               0.06413          0.3169                  0.08032     1.0  \n",
      "552               0.06498          0.2407                  0.06484     1.0  \n",
      "553               0.02564          0.2435                  0.07393     1.0  \n",
      "554               0.06493          0.2372                  0.07242     1.0  \n",
      "555               0.09127          0.2226                  0.08283     1.0  \n",
      "556               0.02232          0.2262                  0.06742     1.0  \n",
      "557               0.00000          0.2475                  0.06969     1.0  \n",
      "558               0.11050          0.2258                  0.08004     1.0  \n",
      "559               0.09653          0.2112                  0.08732     1.0  \n",
      "560               0.10480          0.2250                  0.08321     1.0  \n",
      "561               0.00000          0.1566                  0.05905     1.0  \n",
      "562               0.23560          0.4089                  0.14090     0.0  \n",
      "563               0.25420          0.2929                  0.09873     0.0  \n",
      "564               0.22160          0.2060                  0.07115     0.0  \n",
      "565               0.16280          0.2572                  0.06637     0.0  \n",
      "566               0.14180          0.2218                  0.07820     0.0  \n",
      "567               0.26500          0.4087                  0.12400     0.0  \n",
      "568               0.00000          0.2871                  0.07039     1.0  \n",
      "\n",
      "[569 rows x 31 columns]\n"
     ]
    }
   ],
   "source": [
    "#Your code here\n",
    "\n",
    "def conversion():\n",
    "      \n",
    "    cols = np.append(cancer.feature_names, 'target');   \n",
    "    index = pd.RangeIndex(start=0, stop=569, step=1);\n",
    "    data = np.column_stack((cancer.data, cancer.target))\n",
    "    \n",
    "    # Create dataframe with keywords\n",
    "    df = pd.DataFrame(data=data, index=index, columns=cols)\n",
    "    \n",
    "    return df\n",
    "\n",
    "\n",
    "print(conversion())\n"
   ]
  },
  {
   "cell_type": "markdown",
   "metadata": {},
   "source": [
    "#### Part2 - Q3\n",
    "\n",
    "What is the class distribution? (i.e. how many instances of malignant (encoded 0) and how many benign (encoded 1)?)\n",
    "This function should return a Series of length 2 with integer values and index = ['malignant', 'benign']"
   ]
  },
  {
   "cell_type": "code",
   "execution_count": null,
   "metadata": {},
   "outputs": [],
   "source": [
    "#Your code here\n",
    "\n",
    "\n"
   ]
  },
  {
   "cell_type": "markdown",
   "metadata": {},
   "source": [
    "#### Part2 - Q4\n",
    "\n",
    "Split the DataFrame into X (the data) and y (the labels).\n",
    "\n",
    "This function should return a tuple of length 2: (X, y), where\n",
    "\n",
    "- X has shape (569, 30)\n",
    "- y has shape (569,).\n",
    "\n",
    "for more information about tuple refer to http://bagrow.com/ds1/whirlwindtourpython/07-Built-in-Data-Structures.html"
   ]
  },
  {
   "cell_type": "code",
   "execution_count": null,
   "metadata": {},
   "outputs": [],
   "source": [
    "#Your code here\n",
    "\n"
   ]
  },
  {
   "cell_type": "markdown",
   "metadata": {},
   "source": [
    "#### Part2 - Q5\n",
    "Plot the histogram of 'malignant' and 'benign'.\n",
    "\n",
    "Histogram is way to show the frequency of a set of continuous data. In this case, there are 2 labels ('malignant' and 'benign').The name of the labels will be in the x-axis and the frequency count of those labels will be in the y-axis.\n",
    "\n",
    "You can find more about Histogram here:\n",
    "\n",
    "https://statistics.laerd.com/statistical-guides/understanding-histograms.php"
   ]
  },
  {
   "cell_type": "code",
   "execution_count": null,
   "metadata": {},
   "outputs": [],
   "source": [
    "#Your code here\n",
    "\n"
   ]
  }
 ],
 "metadata": {
  "kernelspec": {
   "display_name": "Python 3",
   "language": "python",
   "name": "python3"
  },
  "language_info": {
   "codemirror_mode": {
    "name": "ipython",
    "version": 3
   },
   "file_extension": ".py",
   "mimetype": "text/x-python",
   "name": "python",
   "nbconvert_exporter": "python",
   "pygments_lexer": "ipython3",
   "version": "3.7.3"
  }
 },
 "nbformat": 4,
 "nbformat_minor": 2
}
