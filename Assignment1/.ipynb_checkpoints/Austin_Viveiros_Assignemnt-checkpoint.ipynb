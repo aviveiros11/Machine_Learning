{
 "cells": [
  {
   "cell_type": "markdown",
   "metadata": {},
   "source": [
    "# Getting Python\n",
    "\n",
    "\n",
    "For this course, we are going to use Jupyter notebook as our environment for developing Python code.\n",
    "refer to https://jupyter.readthedocs.io/en/latest/content-quickstart.html for the instructions on how to install it. The easiest way is to install from Anaconda (https://www.anaconda.com/download/) website, make sure you install with Python 3.6 or above.\n",
    "\n",
    "Also, it is good for the students who are not familiar with python (or they need a quick refreshment) to follow Jim Bagrow tutorial http://bagrow.com/ds1/whirlwindtourpython/00-Title.html. \n",
    "\n",
    "All the assignments need to be written in Python 3.6 or above and can be run using Jupyter on Chrome, Safari or Firefox. These are the browsers that officially supported by jupyter.\n",
    "\n",
    "<u> Note: for this assignment, submit your local copy of this page, running on IPython. Submit the file to Blackboard under Assignment1 using this file format:</u> <b>Yourfirstname_lastname_Assignment1.ipynb</b> \n",
    "\n",
    "#### <b>Deadline</b>: <u>Thursday, Sept-12-2019 11:59 PM.</u>\n"
   ]
  },
  {
   "cell_type": "markdown",
   "metadata": {},
   "source": [
    "# Assignment 1"
   ]
  },
  {
   "cell_type": "markdown",
   "metadata": {},
   "source": [
    "##### Always import all needed libraries in the first cell"
   ]
  },
  {
   "cell_type": "code",
   "execution_count": 8,
   "metadata": {},
   "outputs": [],
   "source": [
    "import numpy as np \n",
    "import matplotlib.pyplot as plt\n",
    "import pandas as pd"
   ]
  },
  {
   "cell_type": "markdown",
   "metadata": {},
   "source": [
    "### Part 1, Q1\n",
    "\n",
    "1) Use the np.linspace function to create a row vector called Points containing exactly 499 values with values evenly spaced between -1 and 1.\n",
    "\n",
    "2) What is the value at index 53?"
   ]
  },
  {
   "cell_type": "code",
   "execution_count": 9,
   "metadata": {},
   "outputs": [
    {
     "name": "stdout",
     "output_type": "stream",
     "text": [
      "-0.7871485943775101\n"
     ]
    }
   ],
   "source": [
    "#Your code here\n",
    "Points = np.linspace(-1,1,499)\n",
    "print(Points[53])\n",
    "\n"
   ]
  },
  {
   "cell_type": "markdown",
   "metadata": {},
   "source": [
    "### Part 1, Q2 \n",
    "\n",
    "For a given array x of 3x3 dimensions, convert this array into a one-dimensional array.\n",
    "\n",
    "Hint: 1) The output should be [1 2 3 4 5 6 7 8 9].\n",
    "\n",
    "2) To get the dimension of an array, we use shape property. The dimension of the resulted array should be 1x9.\n"
   ]
  },
  {
   "cell_type": "code",
   "execution_count": 12,
   "metadata": {},
   "outputs": [
    {
     "name": "stdout",
     "output_type": "stream",
     "text": [
      "(3, 3)\n"
     ]
    },
    {
     "data": {
      "text/plain": [
       "array([[1, 2, 3, 4, 5, 6, 7, 8, 9]])"
      ]
     },
     "execution_count": 12,
     "metadata": {},
     "output_type": "execute_result"
    }
   ],
   "source": [
    "x = np.array([[1, 2, 3], [4, 5, 6],[7, 8, 9]])\n",
    "print(x.shape)\n",
    "\n",
    "#Your code here\n",
    "np.reshape(x,(1,9))\n",
    "\n"
   ]
  },
  {
   "cell_type": "markdown",
   "metadata": {},
   "source": [
    "### Part 1, Q3\n",
    "\n",
    "Create an 10 x 10 array of zeros and then \"frame\" it with a border of ones(The framed array's size should be 10x10)."
   ]
  },
  {
   "cell_type": "code",
   "execution_count": 53,
   "metadata": {},
   "outputs": [
    {
     "data": {
      "text/plain": [
       "array([[1., 1., 1., 1., 1., 1., 1., 1., 1., 1., 1., 1.],\n",
       "       [1., 0., 0., 0., 0., 0., 0., 0., 0., 0., 0., 1.],\n",
       "       [1., 0., 0., 0., 0., 0., 0., 0., 0., 0., 0., 1.],\n",
       "       [1., 0., 0., 0., 0., 0., 0., 0., 0., 0., 0., 1.],\n",
       "       [1., 0., 0., 0., 0., 0., 0., 0., 0., 0., 0., 1.],\n",
       "       [1., 0., 0., 0., 0., 0., 0., 0., 0., 0., 0., 1.],\n",
       "       [1., 0., 0., 0., 0., 0., 0., 0., 0., 0., 0., 1.],\n",
       "       [1., 0., 0., 0., 0., 0., 0., 0., 0., 0., 0., 1.],\n",
       "       [1., 0., 0., 0., 0., 0., 0., 0., 0., 0., 0., 1.],\n",
       "       [1., 0., 0., 0., 0., 0., 0., 0., 0., 0., 0., 1.],\n",
       "       [1., 0., 0., 0., 0., 0., 0., 0., 0., 0., 0., 1.],\n",
       "       [1., 1., 1., 1., 1., 1., 1., 1., 1., 1., 1., 1.]])"
      ]
     },
     "execution_count": 53,
     "metadata": {},
     "output_type": "execute_result"
    }
   ],
   "source": [
    "#Your code here\n",
    "zeros = (10,10)\n",
    "zeros = np.zeros(zeros)\n",
    "np.pad(zeros,1,'constant',constant_values=1)\n",
    "\n"
   ]
  },
  {
   "cell_type": "markdown",
   "metadata": {},
   "source": [
    "### Part 1, Q4\n",
    "\n",
    "\n",
    "Create an 8 x 8 array with a checkerboard pattern of zeros and ones using for loop or vstack.\n",
    "The expected output is given below:\n",
    "      <h4> [[1, 0, 1, 0, 1, 0, 1, 0],</h4>\n",
    "      <h4> [0, 1, 0, 1, 0, 1, 0, 1], </h4>\n",
    "      <h4> [1, 0, 1, 0, 1, 0, 1, 0], </h4>\n",
    "      <h4> [0, 1, 0, 1, 0, 1, 0, 1], </h4>\n",
    "      <h4> [1, 0, 1, 0, 1, 0, 1, 0], </h4>\n",
    "      <h4> [0, 1, 0, 1, 0, 1, 0, 1], </h4>\n",
    "      <h4> [1, 0, 1, 0, 1, 0, 1, 0], </h4>\n",
    "      <h4> [0, 1, 0, 1, 0, 1, 0, 1]] </h4>\n",
    "      \n",
    "      "
   ]
  },
  {
   "cell_type": "code",
   "execution_count": 142,
   "metadata": {},
   "outputs": [
    {
     "name": "stdout",
     "output_type": "stream",
     "text": [
      "[[1 0 1 0 1 0 1 0]\n",
      " [0 1 0 1 0 1 0 1]\n",
      " [1 0 1 0 1 0 1 0]\n",
      " [0 1 0 1 0 1 0 1]\n",
      " [1 0 1 0 1 0 1 0]\n",
      " [0 1 0 1 0 1 0 1]\n",
      " [1 0 1 0 1 0 1 0]\n",
      " [0 1 0 1 0 1 0 1]]\n"
     ]
    }
   ],
   "source": [
    "#Your code here\n",
    "checkerBoard = np.zeros((8,8),dtype=int)\n",
    "\n",
    "for index, line in enumerate(checkerBoard):\n",
    "    if index % 2 == 0:\n",
    "        for x in range(0,8,2):\n",
    "            line[x] = 1\n",
    "    else:\n",
    "        for x in range(1,8,2):\n",
    "            line[x] = 1\n",
    "        \n",
    "print(checkerBoard)"
   ]
  },
  {
   "cell_type": "markdown",
   "metadata": {},
   "source": [
    "### Part 1, Q5\n",
    "\n",
    "Create a function which creates an n×n array with (i,j)-entry equal to i+j.Here i is the index of row and j is the index of column. For example, if the index of i is 2 and the index of j is 5, then, the value of i+j will be 7."
   ]
  },
  {
   "cell_type": "code",
   "execution_count": 149,
   "metadata": {},
   "outputs": [
    {
     "name": "stdout",
     "output_type": "stream",
     "text": [
      "[[ 0  1  2  3  4  5  6  7]\n",
      " [ 1  2  3  4  5  6  7  8]\n",
      " [ 2  3  4  5  6  7  8  9]\n",
      " [ 3  4  5  6  7  8  9 10]\n",
      " [ 4  5  6  7  8  9 10 11]\n",
      " [ 5  6  7  8  9 10 11 12]\n",
      " [ 6  7  8  9 10 11 12 13]\n",
      " [ 7  8  9 10 11 12 13 14]]\n"
     ]
    }
   ],
   "source": [
    "#Your code here\n",
    "def nByn(x, y):\n",
    "    matrix = np.zeros((x,y),dtype=int)\n",
    "    for index, line in enumerate(matrix):\n",
    "        for x in range(0,line.size):\n",
    "            line[x] = index+x\n",
    "    return matrix\n",
    "       \n",
    "result = nByn(8,8)\n",
    "print(result)\n",
    "    \n",
    "\n"
   ]
  },
  {
   "cell_type": "markdown",
   "metadata": {},
   "source": [
    "### Part 1, Q6\n",
    "\n",
    "\n",
    "Define a matrix(2D array) of 100x100 and initialize this matrix by its row index. After that, define a vector(1D array) of length 100 and initialize this vector by the index of the element.\n",
    "\n",
    "Now, Use the dot function on a vector-vector, matrix-vector and matrix-matrix example. you can define your own dot function or use any build in functions. Dot function should peform dot product of two arrays (in this case between 2D and 1D array).\n",
    "\n",
    "Hint: One way of doing this is to use np.dot() function.\n",
    "You can have a look at this link: https://docs.scipy.org/doc/numpy/reference/generated/numpy.dot.html"
   ]
  },
  {
   "cell_type": "code",
   "execution_count": 157,
   "metadata": {},
   "outputs": [
    {
     "name": "stdout",
     "output_type": "stream",
     "text": [
      "Vector/Vector =  328350\n",
      "Vector/Matrix =  [328350 333300 338250 343200 348150 353100 358050 363000 367950 372900\n",
      " 377850 382800 387750 392700 397650 402600 407550 412500 417450 422400\n",
      " 427350 432300 437250 442200 447150 452100 457050 462000 466950 471900\n",
      " 476850 481800 486750 491700 496650 501600 506550 511500 516450 521400\n",
      " 526350 531300 536250 541200 546150 551100 556050 561000 565950 570900\n",
      " 575850 580800 585750 590700 595650 600600 605550 610500 615450 620400\n",
      " 625350 630300 635250 640200 645150 650100 655050 660000 664950 669900\n",
      " 674850 679800 684750 689700 694650 699600 704550 709500 714450 719400\n",
      " 724350 729300 734250 739200 744150 749100 754050 759000 763950 768900\n",
      " 773850 778800 783750 788700 793650 798600 803550 808500 813450 818400]\n",
      "Matrix/Matrix =  [[ 328350  333300  338250 ...  808500  813450  818400]\n",
      " [ 333300  338350  343400 ...  823150  828200  833250]\n",
      " [ 338250  343400  348550 ...  837800  842950  848100]\n",
      " ...\n",
      " [ 808500  823150  837800 ... 2229550 2244200 2258850]\n",
      " [ 813450  828200  842950 ... 2244200 2258950 2273700]\n",
      " [ 818400  833250  848100 ... 2258850 2273700 2288550]]\n"
     ]
    }
   ],
   "source": [
    "#Your code here\n",
    "matrix = nByn(100,100)\n",
    "oneD = np.arange(100)\n",
    "\n",
    "print(\"Vector/Vector = \",np.dot(oneD,oneD))\n",
    "print(\"Vector/Matrix = \",np.dot(oneD,matrix))\n",
    "print(\"Matrix/Matrix = \",np.dot(matrix,matrix))\n",
    "\n"
   ]
  },
  {
   "cell_type": "markdown",
   "metadata": {},
   "source": [
    "### Part 1, Q7\n",
    "\n",
    " For a given random 3x5 array using the np.random.randint() function,\n",
    " compute (without using for loop): the sum of all the entries, the sum of the rows and the sum of the columns. "
   ]
  },
  {
   "cell_type": "code",
   "execution_count": 161,
   "metadata": {},
   "outputs": [
    {
     "name": "stdout",
     "output_type": "stream",
     "text": [
      "[[10 38 30 13 21]\n",
      " [ 7 45 49 33 37]\n",
      " [30 33 43 45  9]]\n",
      "Total sum of values = 443\n",
      "Total sum of rows = [ 47 116 122  91  67]\n",
      "Total sum of columns = [112 171 160]\n"
     ]
    }
   ],
   "source": [
    "arr= np.random.randint(50, size=(3, 5))\n",
    "#Your code here\n",
    "\n",
    "total = np.sum(arr)\n",
    "sumRows = np.sum(arr,axis=0)\n",
    "sumCols = np.sum(arr,axis=1)\n",
    "\n",
    "print(\"Total sum of values =\",total)\n",
    "print(\"Total sum of rows =\",sumRows)\n",
    "print(\"Total sum of columns =\",sumCols)\n"
   ]
  },
  {
   "cell_type": "markdown",
   "metadata": {},
   "source": [
    "### Part 1, Q8\n",
    "In this question, a 5x5 array has been created using np.random.randint(). The goal is to sort(ascending) all the rows using the second column. To be more specific,to sort the rows, we will use the values from column 2.\n",
    "Lets say you have an array like below:\n",
    "\n",
    "[[46 36 40 40 25]\n",
    "\n",
    " [43  3 17 23  4]\n",
    " \n",
    " [43 39  7  9  4]\n",
    " \n",
    " After the sorting, you will have output like below:\n",
    " \n",
    " [43  3 17 23  4]\n",
    " \n",
    " [46 36 40 40 25]\n",
    " \n",
    " [43 39  7  9  4]\n",
    " \n",
    "\n",
    "Hint: You can use argsort function. It is just a way. You can follow other way if you want."
   ]
  },
  {
   "cell_type": "code",
   "execution_count": 166,
   "metadata": {},
   "outputs": [
    {
     "name": "stdout",
     "output_type": "stream",
     "text": [
      "Unsorted:\n",
      "[[ 7 40 28 19 12]\n",
      " [48 27 35  2 14]\n",
      " [ 8  0 36 14 28]\n",
      " [20 31  7 25 39]\n",
      " [23  5 38 48 46]]\n",
      "\n",
      "Rows sorted by the second column:\n",
      "[[ 8  0 36 14 28]\n",
      " [23  5 38 48 46]\n",
      " [48 27 35  2 14]\n",
      " [20 31  7 25 39]\n",
      " [ 7 40 28 19 12]]\n"
     ]
    }
   ],
   "source": [
    "x = np.random.randint(50, size=(5, 5))\n",
    "\n",
    "print('Unsorted:\\n{}\\n'.format(x))\n",
    "#Your code here\n",
    "\n",
    "x = x[x[:,1].argsort()]\n",
    "\n",
    "#--------------------\n",
    "print('Rows sorted by the second column:\\n{}'.format(x))"
   ]
  },
  {
   "cell_type": "markdown",
   "metadata": {},
   "source": [
    "# Part 2\n",
    "For part2, you will be using the Breast Cancer Wisconsin (Diagnostic) Database to create a classifier that can help diagnose patients. First, read through the description of the dataset (below)."
   ]
  },
  {
   "cell_type": "code",
   "execution_count": 2,
   "metadata": {},
   "outputs": [],
   "source": [
    "from sklearn.datasets import load_breast_cancer"
   ]
  },
  {
   "cell_type": "markdown",
   "metadata": {},
   "source": [
    "The object returned by load_breast_cancer() is a scikit-learn Bunch object, which is similar to a dictionary, for information about dictionary refer to http://bagrow.com/ds1/whirlwindtourpython/07-Built-in-Data-Structures.html"
   ]
  },
  {
   "cell_type": "code",
   "execution_count": 3,
   "metadata": {},
   "outputs": [
    {
     "data": {
      "text/plain": [
       "dict_keys(['data', 'target', 'target_names', 'DESCR', 'feature_names', 'filename'])"
      ]
     },
     "execution_count": 3,
     "metadata": {},
     "output_type": "execute_result"
    }
   ],
   "source": [
    "cancer = load_breast_cancer()\n",
    "cancer.keys()"
   ]
  },
  {
   "cell_type": "code",
   "execution_count": 4,
   "metadata": {},
   "outputs": [
    {
     "data": {
      "text/plain": [
       "array([[1.799e+01, 1.038e+01, 1.228e+02, ..., 2.654e-01, 4.601e-01,\n",
       "        1.189e-01],\n",
       "       [2.057e+01, 1.777e+01, 1.329e+02, ..., 1.860e-01, 2.750e-01,\n",
       "        8.902e-02],\n",
       "       [1.969e+01, 2.125e+01, 1.300e+02, ..., 2.430e-01, 3.613e-01,\n",
       "        8.758e-02],\n",
       "       ...,\n",
       "       [1.660e+01, 2.808e+01, 1.083e+02, ..., 1.418e-01, 2.218e-01,\n",
       "        7.820e-02],\n",
       "       [2.060e+01, 2.933e+01, 1.401e+02, ..., 2.650e-01, 4.087e-01,\n",
       "        1.240e-01],\n",
       "       [7.760e+00, 2.454e+01, 4.792e+01, ..., 0.000e+00, 2.871e-01,\n",
       "        7.039e-02]])"
      ]
     },
     "execution_count": 4,
     "metadata": {},
     "output_type": "execute_result"
    }
   ],
   "source": [
    "cancer['data']"
   ]
  },
  {
   "cell_type": "code",
   "execution_count": 5,
   "metadata": {},
   "outputs": [
    {
     "data": {
      "text/plain": [
       "array(['malignant', 'benign'], dtype='<U9')"
      ]
     },
     "execution_count": 5,
     "metadata": {},
     "output_type": "execute_result"
    }
   ],
   "source": [
    "cancer['target_names']"
   ]
  },
  {
   "cell_type": "code",
   "execution_count": 6,
   "metadata": {},
   "outputs": [
    {
     "data": {
      "text/plain": [
       "array(['mean radius', 'mean texture', 'mean perimeter', 'mean area',\n",
       "       'mean smoothness', 'mean compactness', 'mean concavity',\n",
       "       'mean concave points', 'mean symmetry', 'mean fractal dimension',\n",
       "       'radius error', 'texture error', 'perimeter error', 'area error',\n",
       "       'smoothness error', 'compactness error', 'concavity error',\n",
       "       'concave points error', 'symmetry error',\n",
       "       'fractal dimension error', 'worst radius', 'worst texture',\n",
       "       'worst perimeter', 'worst area', 'worst smoothness',\n",
       "       'worst compactness', 'worst concavity', 'worst concave points',\n",
       "       'worst symmetry', 'worst fractal dimension'], dtype='<U23')"
      ]
     },
     "execution_count": 6,
     "metadata": {},
     "output_type": "execute_result"
    }
   ],
   "source": [
    "cancer['feature_names']"
   ]
  },
  {
   "cell_type": "code",
   "execution_count": 7,
   "metadata": {},
   "outputs": [
    {
     "data": {
      "text/plain": [
       "array([0, 0, 0, 0, 0, 0, 0, 0, 0, 0, 0, 0, 0, 0, 0, 0, 0, 0, 0, 1, 1, 1,\n",
       "       0, 0, 0, 0, 0, 0, 0, 0, 0, 0, 0, 0, 0, 0, 0, 1, 0, 0, 0, 0, 0, 0,\n",
       "       0, 0, 1, 0, 1, 1, 1, 1, 1, 0, 0, 1, 0, 0, 1, 1, 1, 1, 0, 1, 0, 0,\n",
       "       1, 1, 1, 1, 0, 1, 0, 0, 1, 0, 1, 0, 0, 1, 1, 1, 0, 0, 1, 0, 0, 0,\n",
       "       1, 1, 1, 0, 1, 1, 0, 0, 1, 1, 1, 0, 0, 1, 1, 1, 1, 0, 1, 1, 0, 1,\n",
       "       1, 1, 1, 1, 1, 1, 1, 0, 0, 0, 1, 0, 0, 1, 1, 1, 0, 0, 1, 0, 1, 0,\n",
       "       0, 1, 0, 0, 1, 1, 0, 1, 1, 0, 1, 1, 1, 1, 0, 1, 1, 1, 1, 1, 1, 1,\n",
       "       1, 1, 0, 1, 1, 1, 1, 0, 0, 1, 0, 1, 1, 0, 0, 1, 1, 0, 0, 1, 1, 1,\n",
       "       1, 0, 1, 1, 0, 0, 0, 1, 0, 1, 0, 1, 1, 1, 0, 1, 1, 0, 0, 1, 0, 0,\n",
       "       0, 0, 1, 0, 0, 0, 1, 0, 1, 0, 1, 1, 0, 1, 0, 0, 0, 0, 1, 1, 0, 0,\n",
       "       1, 1, 1, 0, 1, 1, 1, 1, 1, 0, 0, 1, 1, 0, 1, 1, 0, 0, 1, 0, 1, 1,\n",
       "       1, 1, 0, 1, 1, 1, 1, 1, 0, 1, 0, 0, 0, 0, 0, 0, 0, 0, 0, 0, 0, 0,\n",
       "       0, 0, 1, 1, 1, 1, 1, 1, 0, 1, 0, 1, 1, 0, 1, 1, 0, 1, 0, 0, 1, 1,\n",
       "       1, 1, 1, 1, 1, 1, 1, 1, 1, 1, 1, 0, 1, 1, 0, 1, 0, 1, 1, 1, 1, 1,\n",
       "       1, 1, 1, 1, 1, 1, 1, 1, 1, 0, 1, 1, 1, 0, 1, 0, 1, 1, 1, 1, 0, 0,\n",
       "       0, 1, 1, 1, 1, 0, 1, 0, 1, 0, 1, 1, 1, 0, 1, 1, 1, 1, 1, 1, 1, 0,\n",
       "       0, 0, 1, 1, 1, 1, 1, 1, 1, 1, 1, 1, 1, 0, 0, 1, 0, 0, 0, 1, 0, 0,\n",
       "       1, 1, 1, 1, 1, 0, 1, 1, 1, 1, 1, 0, 1, 1, 1, 0, 1, 1, 0, 0, 1, 1,\n",
       "       1, 1, 1, 1, 0, 1, 1, 1, 1, 1, 1, 1, 0, 1, 1, 1, 1, 1, 0, 1, 1, 0,\n",
       "       1, 1, 1, 1, 1, 1, 1, 1, 1, 1, 1, 1, 0, 1, 0, 0, 1, 0, 1, 1, 1, 1,\n",
       "       1, 0, 1, 1, 0, 1, 0, 1, 1, 0, 1, 0, 1, 1, 1, 1, 1, 1, 1, 1, 0, 0,\n",
       "       1, 1, 1, 1, 1, 1, 0, 1, 1, 1, 1, 1, 1, 1, 1, 1, 1, 0, 1, 1, 1, 1,\n",
       "       1, 1, 1, 0, 1, 0, 1, 1, 0, 1, 1, 1, 1, 1, 0, 0, 1, 0, 1, 0, 1, 1,\n",
       "       1, 1, 1, 0, 1, 1, 0, 1, 0, 1, 0, 0, 1, 1, 1, 0, 1, 1, 1, 1, 1, 1,\n",
       "       1, 1, 1, 1, 1, 0, 1, 0, 0, 1, 1, 1, 1, 1, 1, 1, 1, 1, 1, 1, 1, 1,\n",
       "       1, 1, 1, 1, 1, 1, 1, 1, 1, 1, 1, 1, 0, 0, 0, 0, 0, 0, 1])"
      ]
     },
     "execution_count": 7,
     "metadata": {},
     "output_type": "execute_result"
    }
   ],
   "source": [
    "cancer['target']"
   ]
  },
  {
   "cell_type": "markdown",
   "metadata": {},
   "source": [
    "#### Part2 - Q1\n",
    "\n",
    "How many features does the breast cancer dataset have?\n",
    "This function should return an integer."
   ]
  },
  {
   "cell_type": "code",
   "execution_count": 8,
   "metadata": {},
   "outputs": [
    {
     "name": "stdout",
     "output_type": "stream",
     "text": [
      "30\n"
     ]
    }
   ],
   "source": [
    "#Your code here\n",
    "def numFeatures():\n",
    "    return len(cancer['feature_names'])\n",
    "\n",
    "print(numFeatures())\n",
    "\n"
   ]
  },
  {
   "cell_type": "markdown",
   "metadata": {},
   "source": [
    "#### Part2 - Q2\n",
    "\n",
    "Scikit-learn is machine learning library for the Python programming language. \n",
    "\n",
    "Convert the sklearn.dataset cancer to a DataFrame.\n",
    "\n",
    "This function should return a (569, 31) DataFrame with\n",
    "columns =\n",
    "\n",
    "['mean radius', 'mean texture', 'mean perimeter', 'mean area',\n",
    "'mean smoothness', 'mean compactness', 'mean concavity',\n",
    "'mean concave points', 'mean symmetry', 'mean fractal dimension',\n",
    "'radius error', 'texture error', 'perimeter error', 'area error',\n",
    "'smoothness error', 'compactness error', 'concavity error',\n",
    "'concave points error', 'symmetry error', 'fractal dimension error',\n",
    "'worst radius', 'worst texture', 'worst perimeter', 'worst area',\n",
    "'worst smoothness', 'worst compactness', 'worst concavity',\n",
    "'worst concave points', 'worst symmetry', 'worst fractal dimension',\n",
    "'target']"
   ]
  },
  {
   "cell_type": "code",
   "execution_count": 10,
   "metadata": {},
   "outputs": [],
   "source": [
    "#Your code here\n",
    "\n",
    "def conversion():\n",
    "    \n",
    "    # Target is not exists in current feature names, so append it to columns    \n",
    "    columns = np.append(cancer.feature_names, 'target');   \n",
    "    print(\"Features Column Size: \" + str(np.size(columns)))\n",
    "    \n",
    "    # Create a range index object for matrice\n",
    "    index = pd.RangeIndex(start=0, stop=569, step=1);\n",
    "    \n",
    "    # Append target data to current data\n",
    "    data = np.column_stack((cancer.data, cancer.target))\n",
    "    print(\"Data Column Size: \" + str(np.size(data) / 569))\n",
    "    \n",
    "    # Create dataframe with keywords\n",
    "    df = pd.DataFrame(data=data, index=index, columns=columns)\n",
    "    \n",
    "    return df # Return your answer\n",
    "\n",
    "\n",
    "print(conversion)\n"
   ]
  },
  {
   "cell_type": "markdown",
   "metadata": {},
   "source": [
    "#### Part2 - Q3\n",
    "\n",
    "What is the class distribution? (i.e. how many instances of malignant (encoded 0) and how many benign (encoded 1)?)\n",
    "This function should return a Series of length 2 with integer values and index = ['malignant', 'benign']"
   ]
  },
  {
   "cell_type": "code",
   "execution_count": null,
   "metadata": {},
   "outputs": [],
   "source": [
    "#Your code here\n",
    "\n"
   ]
  },
  {
   "cell_type": "markdown",
   "metadata": {},
   "source": [
    "#### Part2 - Q4\n",
    "\n",
    "Split the DataFrame into X (the data) and y (the labels).\n",
    "\n",
    "This function should return a tuple of length 2: (X, y), where\n",
    "\n",
    "- X has shape (569, 30)\n",
    "- y has shape (569,).\n",
    "\n",
    "for more information about tuple refer to http://bagrow.com/ds1/whirlwindtourpython/07-Built-in-Data-Structures.html"
   ]
  },
  {
   "cell_type": "code",
   "execution_count": null,
   "metadata": {},
   "outputs": [],
   "source": [
    "#Your code here\n",
    "\n"
   ]
  },
  {
   "cell_type": "markdown",
   "metadata": {},
   "source": [
    "#### Part2 - Q5\n",
    "Plot the histogram of 'malignant' and 'benign'.\n",
    "\n",
    "Histogram is way to show the frequency of a set of continuous data. In this case, there are 2 labels ('malignant' and 'benign').The name of the labels will be in the x-axis and the frequency count of those labels will be in the y-axis.\n",
    "\n",
    "You can find more about Histogram here:\n",
    "\n",
    "https://statistics.laerd.com/statistical-guides/understanding-histograms.php"
   ]
  },
  {
   "cell_type": "code",
   "execution_count": null,
   "metadata": {},
   "outputs": [],
   "source": [
    "#Your code here\n",
    "\n"
   ]
  }
 ],
 "metadata": {
  "kernelspec": {
   "display_name": "Python 3",
   "language": "python",
   "name": "python3"
  },
  "language_info": {
   "codemirror_mode": {
    "name": "ipython",
    "version": 3
   },
   "file_extension": ".py",
   "mimetype": "text/x-python",
   "name": "python",
   "nbconvert_exporter": "python",
   "pygments_lexer": "ipython3",
   "version": "3.7.3"
  }
 },
 "nbformat": 4,
 "nbformat_minor": 2
}
