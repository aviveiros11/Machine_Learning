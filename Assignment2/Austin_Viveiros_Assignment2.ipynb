{
 "cells": [
  {
   "cell_type": "markdown",
   "metadata": {},
   "source": [
    "# Getting Python\n",
    "\n",
    "\n",
    "For this course, we are going to use Jupyter notebook as our environment for developing Python code.\n",
    "refer to https://jupyter.readthedocs.io/en/latest/content-quickstart.html on the instructions how to install it, the easiest way is to install from Anaconda (https://www.anaconda.com/download/) website, make sure you install with Python 3.6.\n",
    "\n",
    "Also, it is good for the students who are not familiar with python (or they need a quick refreshment) to follow Jim Bagrow tutorial http://bagrow.com/ds1/whirlwindtourpython/00-Title.html. \n",
    "\n",
    "All the assignments to be written in Python 3.6 and can be run using Jupyter on one of the following Internet browsers (Chrome, Safari or Firefox), these are the browsers that officially supported by jupyter.\n",
    "\n",
    "<u> Note: for this assignment, submit your local copy of this page, running on IPython. Submit the file to Blackboard under Assignment2 using this file format:</u> <b>Yourfirstname_lastname_Assignment2.ipynb</b> \n",
    "\n",
    "#### <b>Deadline</b>: <u>October-1-2019 11:59 PM.</u>\n",
    "\n",
    "\n",
    "#### <font color='red'>NOTE: Please refer to the Ipython notebook named linearRegression.ipynb from class lecture. There are overlaps between that notebook and the assignment 2 </font>\n"
   ]
  },
  {
   "cell_type": "markdown",
   "metadata": {
    "collapsed": true
   },
   "source": [
    "#### Import your needed libraries in this cell"
   ]
  },
  {
   "cell_type": "code",
   "execution_count": 51,
   "metadata": {},
   "outputs": [],
   "source": [
    "import os\n",
    "import numpy as np\n",
    "import pandas as pd\n",
    "import matplotlib.pyplot as plt\n",
    "%matplotlib inline"
   ]
  },
  {
   "cell_type": "markdown",
   "metadata": {},
   "source": [
    "# Assignment 2 -- Part 1(Logistic regression without regularization )\n",
    "\n",
    "In this exercise, you will implement logistic regression and apply it to dataset Assignment2_data1.txt\n",
    "\n",
    "Import and examine the dataset Assignment2_data1.txt. There are two continuous independent variables in the data - “Exam 1” and “Exam 2”. Our prediction target is the “Admitted” label, which is binary-valued. A value of 1 means the student was admitted and a value of 0 means the student was not admitted.\n",
    "\n",
    "In this part of the Assignment, you will build a logistic regression model to predict whether a student gets admitted into a university (a model that estimates an applicant’s probability of admission based the scores from those two exams)\n"
   ]
  },
  {
   "cell_type": "markdown",
   "metadata": {
    "collapsed": true
   },
   "source": [
    "### Part 1, Q1  -- 10%\n",
    "\n",
    "1. [5 points] Load the data and split it into X(features vector) and y(target/output vector).You can follow the way that has been shown in the class in the LinearRegression.ipynb. "
   ]
  },
  {
   "cell_type": "code",
   "execution_count": 52,
   "metadata": {},
   "outputs": [
    {
     "name": "stdout",
     "output_type": "stream",
     "text": [
      "       Exam 1     Exam 2\n",
      "0   34.623660  78.024693\n",
      "1   30.286711  43.894998\n",
      "2   35.847409  72.902198\n",
      "3   60.182599  86.308552\n",
      "4   79.032736  75.344376\n",
      "5   45.083277  56.316372\n",
      "6   61.106665  96.511426\n",
      "7   75.024746  46.554014\n",
      "8   76.098787  87.420570\n",
      "9   84.432820  43.533393\n",
      "10  95.861555  38.225278\n",
      "11  75.013658  30.603263\n",
      "12  82.307053  76.481963\n",
      "13  69.364589  97.718692\n",
      "14  39.538339  76.036811\n",
      "15  53.971052  89.207350\n",
      "16  69.070144  52.740470\n",
      "17  67.946855  46.678574\n",
      "18  70.661510  92.927138\n",
      "19  76.978784  47.575964\n",
      "20  67.372028  42.838438\n",
      "21  89.676776  65.799366\n",
      "22  50.534788  48.855812\n",
      "23  34.212061  44.209529\n",
      "24  77.924091  68.972360\n",
      "25  62.271014  69.954458\n",
      "26  80.190181  44.821629\n",
      "27  93.114389  38.800670\n",
      "28  61.830206  50.256108\n",
      "29  38.785804  64.995681\n",
      "..        ...        ...\n",
      "70  32.722833  43.307173\n",
      "71  64.039320  78.031688\n",
      "72  72.346494  96.227593\n",
      "73  60.457886  73.094998\n",
      "74  58.840956  75.858448\n",
      "75  99.827858  72.369252\n",
      "76  47.264269  88.475865\n",
      "77  50.458160  75.809860\n",
      "78  60.455556  42.508409\n",
      "79  82.226662  42.719879\n",
      "80  88.913896  69.803789\n",
      "81  94.834507  45.694307\n",
      "82  67.319257  66.589353\n",
      "83  57.238706  59.514282\n",
      "84  80.366756  90.960148\n",
      "85  68.468522  85.594307\n",
      "86  42.075455  78.844786\n",
      "87  75.477702  90.424539\n",
      "88  78.635424  96.647427\n",
      "89  52.348004  60.769505\n",
      "90  94.094331  77.159105\n",
      "91  90.448551  87.508792\n",
      "92  55.482161  35.570703\n",
      "93  74.492692  84.845137\n",
      "94  89.845807  45.358284\n",
      "95  83.489163  48.380286\n",
      "96  42.261701  87.103851\n",
      "97  99.315009  68.775409\n",
      "98  55.340018  64.931938\n",
      "99  74.775893  89.529813\n",
      "\n",
      "[100 rows x 2 columns]\n",
      "    Admitted\n",
      "0          0\n",
      "1          0\n",
      "2          0\n",
      "3          1\n",
      "4          1\n",
      "5          0\n",
      "6          1\n",
      "7          1\n",
      "8          1\n",
      "9          1\n",
      "10         0\n",
      "11         0\n",
      "12         1\n",
      "13         1\n",
      "14         0\n",
      "15         1\n",
      "16         1\n",
      "17         0\n",
      "18         1\n",
      "19         1\n",
      "20         0\n",
      "21         1\n",
      "22         0\n",
      "23         0\n",
      "24         1\n",
      "25         1\n",
      "26         1\n",
      "27         0\n",
      "28         0\n",
      "29         0\n",
      "..       ...\n",
      "70         0\n",
      "71         1\n",
      "72         1\n",
      "73         1\n",
      "74         1\n",
      "75         1\n",
      "76         1\n",
      "77         1\n",
      "78         0\n",
      "79         0\n",
      "80         1\n",
      "81         1\n",
      "82         1\n",
      "83         1\n",
      "84         1\n",
      "85         1\n",
      "86         0\n",
      "87         1\n",
      "88         1\n",
      "89         0\n",
      "90         1\n",
      "91         1\n",
      "92         0\n",
      "93         1\n",
      "94         1\n",
      "95         1\n",
      "96         1\n",
      "97         1\n",
      "98         1\n",
      "99         1\n",
      "\n",
      "[100 rows x 1 columns]\n"
     ]
    }
   ],
   "source": [
    "path = os.getcwd() + '/Assignment2_data1.csv'\n",
    "data = pd.read_csv(path, header=None, names=['Exam 1', 'Exam 2', 'Admitted'])\n",
    "\n",
    "cols = data.shape[1]\n",
    "X = data.iloc[:,0:cols-1] # iloc slicing function \n",
    "y = data.iloc[:,cols-1:cols]\n",
    "\n",
    "print (X)\n",
    "print (y)"
   ]
  },
  {
   "cell_type": "markdown",
   "metadata": {},
   "source": [
    "2. [5 points] Visualize the data. \n",
    "For visualizing,exam 1 score will be in the X-axis, exam 2 score will be on the Y-axis. Put + (plus) for an admitted student, and circle for a student who was not admitted."
   ]
  },
  {
   "cell_type": "code",
   "execution_count": 53,
   "metadata": {},
   "outputs": [
    {
     "data": {
      "image/png": "[encoded data removed]",
      "text/plain": [
       "<Figure size 432x288 with 1 Axes>"
      ]
     },
     "metadata": {
      "needs_background": "light"
     },
     "output_type": "display_data"
    }
   ],
   "source": [
    "\n",
    "for i in range(0, len(y)):\n",
    "    marker = y.at[i,\"Admitted\"]\n",
    "    if marker == 1:\n",
    "        sign = \"+\"\n",
    "    else: \n",
    "        sign = \"o\"\n",
    "    \n",
    "    plt.scatter(x=X.at[i,\"Exam 1\"], y=X.at[i,\"Exam 2\"], marker=sign, c=\"Black\")\n",
    "\n",
    "plt.title(\"Exam Scores\")\n",
    "plt.xlabel(\"Exam 1\")\n",
    "plt.ylabel(\"Exam 2\")\n",
    "plt.show()\n",
    "\n"
   ]
  },
  {
   "cell_type": "markdown",
   "metadata": {},
   "source": [
    "### Part 1, Q2  -- 5%\n",
    "\n",
    "Before you start with the implementation of the cost function and gradient descent algorithm for logistic Regression, at first implement the function \"sigmoid\"  that can be called by the rest of your program. test it when you are finished, try testing a few values by calling sigmoid(x). For large positive values of x, the sigmoid should be close to 1, while for large negative values, the sigmoid should be close to 0. Evaluating sigmoid(0) should give you exactly 0.5."
   ]
  },
  {
   "cell_type": "code",
   "execution_count": 54,
   "metadata": {},
   "outputs": [
    {
     "name": "stdout",
     "output_type": "stream",
     "text": [
      "0.5\n"
     ]
    }
   ],
   "source": [
    "#Choose the parameters and return value on your own\n",
    "def sigmoid(z):\n",
    "    #Start you code from here\n",
    "    return 1 / (1 + np.exp(-z))\n",
    "\n",
    "print(sigmoid(0))\n",
    "    "
   ]
  },
  {
   "cell_type": "markdown",
   "metadata": {},
   "source": [
    "### Part 1, Q3   -- 10%\n",
    "\n",
    "\n",
    "\n",
    "1.  [5 points] Implement cost function (calcLogRegressionCost) as detailed in the cell below.\n",
    "\n",
    "2.  [5 points] gradient descent (logRegressionGradientDescent) as detailed in the cell below.   \n",
    "\n",
    "Hint: Once you are done,  call your \"calcLogRegressionCost\" using the initial parameters of θ. You should see that the cost is about 0.693.\n",
    "\n",
    "Note: no need to add the regularization term. "
   ]
  },
  {
   "cell_type": "code",
   "execution_count": 55,
   "metadata": {},
   "outputs": [
    {
     "name": "stdout",
     "output_type": "stream",
     "text": [
      "Cost =  0.6931471805599453\n"
     ]
    }
   ],
   "source": [
    "#You can may change the number of parameters according to your wish for\n",
    "#all the funtions depending on your implementation.\n",
    "\n",
    "#Pre-cleaning and modification\n",
    "X = data.iloc[:,:-1].values\n",
    "y = data.iloc[:,-1].values\n",
    "col1 = X.shape[0]\n",
    "col2 = X.shape[1] \n",
    "X = (X - np.mean(X,axis=0))/np.std(X,axis=0)\n",
    "X = np.append(np.ones((col1,1)),X,axis=1)\n",
    "y = y.reshape(col1,1)\n",
    "\n",
    "def calcLogRegressionCost(X, y, theta):\n",
    "    #X is the feature vector\n",
    "    #Y is the target vector/ output vector\n",
    "    #theta is the weight vector \n",
    "    #Start you code from here\n",
    "    cost = 1/len(y) * np.sum((-y * np.log(sigmoid(np.dot(X,theta)))) - ((1-y)*np.log(1-sigmoid(np.dot(X,theta)))))\n",
    "    return cost \n",
    "\n",
    "def logRegressionGradientDescent(X, y, theta0, alpha, iterations):\n",
    "    #X is the feature vector\n",
    "    #Y is the target vector/ output vector\n",
    "    #theta is the weight vector \n",
    "    #alpha is the learning rate\n",
    "    #iteration is the steps you want to take \n",
    "    #Start you code from here\\\n",
    "    cost_history =[]\n",
    "    \n",
    "    for i in range(iterations):\n",
    "        cost = calcLogRegressionCost(X,y,theta0)\n",
    "        grad = 1/len(y) * np.dot(X.T,(sigmoid(np.dot(X,theta0)) - y))\n",
    "        theta0 = theta0 - (alpha * grad)\n",
    "        cost_history.append(cost)\n",
    "    \n",
    "    return theta0 , cost_history\n",
    "    #you should return theta or loss or the both depending on your way\n",
    "    #of implementation\n",
    "\n",
    "theta = np.zeros((col2+1,1))\n",
    "cost = calcLogRegressionCost(X,y,theta)\n",
    "print(\"Cost = \",cost)\n",
    "\n",
    "\n",
    "\n",
    "\n"
   ]
  },
  {
   "cell_type": "markdown",
   "metadata": {},
   "source": [
    "### Part 1, Q4   -- 20%\n",
    "\n",
    "As you have the gradient decent algorithm implemented,\n",
    "\n",
    "1. [3 Points] Run the gradient descent algorithm to fit your parameters theta to the training set.\n"
   ]
  },
  {
   "cell_type": "code",
   "execution_count": 56,
   "metadata": {},
   "outputs": [],
   "source": [
    "alpha = 1\n",
    "iterations = 100\n",
    "#print(logRegressionGradientDescent(X, y, initial_theta, alpha, iterations))\n",
    "theta , cost_history = logRegressionGradientDescent(X,y,theta,alpha,iterations)\n",
    "    "
   ]
  },
  {
   "cell_type": "markdown",
   "metadata": {},
   "source": [
    "2. [2 Points] Report optimal final θ."
   ]
  },
  {
   "cell_type": "code",
   "execution_count": 57,
   "metadata": {},
   "outputs": [
    {
     "name": "stdout",
     "output_type": "stream",
     "text": [
      "[[1.27738106]\n",
      " [3.06129133]\n",
      " [2.82508236]]\n"
     ]
    }
   ],
   "source": [
    "print(theta)"
   ]
  },
  {
   "cell_type": "markdown",
   "metadata": {},
   "source": [
    "\n",
    "3. [10 Points] Plot the cost with the number of iterations. what is the best learning rate you choosed and why ?"
   ]
  },
  {
   "cell_type": "code",
   "execution_count": 58,
   "metadata": {},
   "outputs": [
    {
     "data": {
      "text/plain": [
       "Text(0.5, 1.0, 'Cost function using Gradient Descent')"
      ]
     },
     "execution_count": 58,
     "metadata": {},
     "output_type": "execute_result"
    },
    {
     "data": {
      "image/png": "[encoded data removed]",
      "text/plain": [
       "<Figure size 432x288 with 1 Axes>"
      ]
     },
     "metadata": {
      "needs_background": "light"
     },
     "output_type": "display_data"
    }
   ],
   "source": [
    "plt.plot(cost_history)\n",
    "plt.xlabel(\"Iteration\")\n",
    "plt.ylabel(\"Cost\")\n",
    "plt.title(\"Cost function using Gradient Descent\")"
   ]
  },
  {
   "cell_type": "markdown",
   "metadata": {},
   "source": [
    "4. [5 Points]  Plot the decision boundary with the training data.\n",
    "\n",
    "Hint: You can have a look at the following link for help:\n",
    "<br>\n",
    "https://stackoverflow.com/questions/19054923/plot-decision-boundary-matplotlib"
   ]
  },
  {
   "cell_type": "code",
   "execution_count": 59,
   "metadata": {},
   "outputs": [
    {
     "data": {
      "image/png": "[encoded data removed]",
      "text/plain": [
       "<Figure size 432x288 with 1 Axes>"
      ]
     },
     "metadata": {
      "needs_background": "light"
     },
     "output_type": "display_data"
    }
   ],
   "source": [
    "X = data.iloc[:,0:cols-1] # iloc slicing function \n",
    "y = data.iloc[:,cols-1:cols]\n",
    "for i in range(0, len(y)):\n",
    "    marker = y.at[i,\"Admitted\"]\n",
    "    if marker == 1:\n",
    "        sign = \"+\"\n",
    "    else: \n",
    "        sign = \"o\"\n",
    "    \n",
    "    plt.scatter(x=X.at[i,\"Exam 1\"], y=X.at[i,\"Exam 2\"], marker=sign, c=\"Black\")\n",
    "    \n",
    "X = data.iloc[:,:-1].values\n",
    "y = data.iloc[:,-1].values\n",
    "x_value= np.array([np.min(X[:,1]),np.max(X[:,1])])\n",
    "\n",
    "y_value=-((theta[0] +theta[1]*x_value)/theta[2])+125\n",
    "\n",
    "plt.plot(x_value,y_value, \"b\")\n",
    "plt.title(\"Exam Scores\")\n",
    "plt.xlabel(\"Exam 1\")\n",
    "plt.ylabel(\"Exam 2\")\n",
    "plt.show()"
   ]
  },
  {
   "cell_type": "markdown",
   "metadata": {},
   "source": [
    "### Part 1, Q5  -- 10%\n",
    "At this point, you have the optimal theta.\n",
    "\n",
    "[5 Points] Implement the predict_proba function."
   ]
  },
  {
   "cell_type": "code",
   "execution_count": 60,
   "metadata": {},
   "outputs": [],
   "source": [
    "def predict_proba(X,theta, score1, score2):\n",
    "    #you need to know the probability of a certain test sample to fall in a certain class.\n",
    "    #For this you need a function which will give you the probability.\n",
    "    #You just need to use the sigmoid function to get the probability.\n",
    "    #Start your code from here\n",
    "    mean = np.mean(X,axis=0)\n",
    "    std = np.std(X,axis=0)\n",
    "    test = np.array([score1,score2])\n",
    "    x_test = (test - mean)/std\n",
    "    x_test = np.append(np.ones(1),x_test)\n",
    "    prob = sigmoid(x_test.dot(theta))\n",
    "    \n",
    "    return prob[0]\n",
    "    #This function should return a probability"
   ]
  },
  {
   "cell_type": "markdown",
   "metadata": {},
   "source": [
    "2. [5 Points] Suppose,a student has scored 100 in exam 1 and scored 50 in exam 2. Using the following predict_proba function find  the admission probability of this student."
   ]
  },
  {
   "cell_type": "code",
   "execution_count": 61,
   "metadata": {},
   "outputs": [
    {
     "name": "stdout",
     "output_type": "stream",
     "text": [
      "Probability:\n",
      "0.985671440743817\n"
     ]
    }
   ],
   "source": [
    "print(\"Probability:\")\n",
    "print(predict_proba(X,theta,100,50))"
   ]
  },
  {
   "cell_type": "markdown",
   "metadata": {},
   "source": [
    "# Assignment 2 -- Part 2(Enhanced Logistic regression )\n",
    "\n",
    "In this part of the assignment, you will implement regularized logistic regression to predict whether microchips from a fabrication plant passes quality assurance(QA). During QA, each microchip goes through various tests to ensure it is functioning correctly.\n",
    "\n",
    "Import and examine the dataset Assignment2_data2.txt. Suppose you are the product manager of the factory and you have the test results for some microchips on two different tests. From these two tests, you would like to determine whether the microchips should be accepted or rejected. "
   ]
  },
  {
   "cell_type": "markdown",
   "metadata": {},
   "source": [
    "### Part 2, Q1 -- 5%\n",
    "\n",
    "Load the data and visualize it.(You can follow the steps from part1, Q1)\n",
    "\n",
    "For visualizing,test 1 score will be in the X-axis, test 2 score will be on the Y-axis. Put + (plus) for the accepted one, and circle for rejected one."
   ]
  },
  {
   "cell_type": "code",
   "execution_count": 62,
   "metadata": {},
   "outputs": [
    {
     "data": {
      "image/png": "[encoded data removed]",
      "text/plain": [
       "<Figure size 432x288 with 1 Axes>"
      ]
     },
     "metadata": {
      "needs_background": "light"
     },
     "output_type": "display_data"
    }
   ],
   "source": [
    "path = os.getcwd() + '/Assignment2_data2.csv'\n",
    "data = pd.read_csv(path, header=None, names=['Test 1', 'Test 2', 'Admitted'])\n",
    "\n",
    "cols = data.shape[1]\n",
    "X = data.iloc[:,0:cols-1] \n",
    "y = data.iloc[:,cols-1:cols]\n",
    "\n",
    "for i in range(0, len(y)):\n",
    "    marker = y.at[i,\"Admitted\"]\n",
    "    if marker == 1:\n",
    "        sign = \"+\"\n",
    "    else: \n",
    "        sign = \"o\"\n",
    "    \n",
    "    plt.scatter(x=X.at[i,\"Test 1\"], y=X.at[i,\"Test 2\"], marker=sign, c=\"Black\")\n",
    "\n",
    "plt.title(\"Chip Scores\")\n",
    "plt.xlabel(\"Test 1\")\n",
    "plt.ylabel(\"Test 2\")\n",
    "plt.show()"
   ]
  },
  {
   "attachments": {
    "polyn6.png": {
     "image/png": "[encoded data removed]"
    }
   },
   "cell_type": "markdown",
   "metadata": {},
   "source": [
    "### Part 2, Q2 -- 15%\n",
    "One way to fit the data better is to create more features from each data\n",
    "point.  \n",
    "\n",
    "1. [10 Points] Map the features into all polynomial terms of x1 and x2 up to the sixth power.\n",
    "\n",
    "![polyn6.png](attachment:polyn6.png)\n",
    "\n",
    "\n"
   ]
  },
  {
   "cell_type": "code",
   "execution_count": 63,
   "metadata": {},
   "outputs": [],
   "source": [
    "#Assistance was provided from the following resource:\n",
    "#https://medium.com/analytics-vidhya/python-implementation-of-andrew-ngs-machine-learning-course-part-2-2-dceff1a12a12\n",
    "#I Used the code as a jumping off point and re-wrote in a way that I understood.\n",
    "def mapFeature(x1, x2, degree):\n",
    "    #Create the reulting vector to store raised values\n",
    "    resulting_feature_vector = np.ones(X.shape[0])[:,np.newaxis]\n",
    "    #loop through the degree to add dimmensions\n",
    "    for i in range(1, degree+1):\n",
    "        for j in range(i+1):\n",
    "            term_1 = np.power(x1, i-j)  #Raise to the power i-j\n",
    "            term_2 = np.power(x2, j)    #Raise to the power of j\n",
    "            raise_x = np.multiply(term_1, term_2)[:,np.newaxis] #map them together to make the new dimmension\n",
    "            resulting_feature_vector = np.hstack((resulting_feature_vector, raise_x)) #Stack arrays in sequence horizontally\n",
    "    return resulting_feature_vector\n",
    "\n",
    "X = mapFeature(X.iloc[:,0], X.iloc[:,1], 6)"
   ]
  },
  {
   "cell_type": "markdown",
   "metadata": {},
   "source": [
    "2. [2 Points] Report optimal final θ."
   ]
  },
  {
   "cell_type": "code",
   "execution_count": 64,
   "metadata": {},
   "outputs": [
    {
     "name": "stdout",
     "output_type": "stream",
     "text": [
      "[[ 1.31179927e+00]\n",
      " [ 7.03132475e-01]\n",
      " [ 1.36752140e+00]\n",
      " [-2.17500393e+00]\n",
      " [-9.30694447e-01]\n",
      " [-1.31460924e+00]\n",
      " [ 1.02154754e-01]\n",
      " [-3.89808853e-01]\n",
      " [-3.76212946e-01]\n",
      " [-2.32927299e-01]\n",
      " [-1.66683066e+00]\n",
      " [-9.16156117e-02]\n",
      " [-6.56205099e-01]\n",
      " [-2.71904377e-01]\n",
      " [-1.33973155e+00]\n",
      " [-3.15497722e-01]\n",
      " [-2.39555591e-01]\n",
      " [-7.51968061e-02]\n",
      " [-2.96747415e-01]\n",
      " [-3.00208340e-01]\n",
      " [-6.62884989e-01]\n",
      " [-1.22916646e+00]\n",
      " [-2.10792112e-03]\n",
      " [-3.24085014e-01]\n",
      " [-1.67218185e-03]\n",
      " [-3.57800931e-01]\n",
      " [-1.37567045e-01]\n",
      " [-1.18744315e+00]]\n"
     ]
    }
   ],
   "source": [
    "\n",
    "initial_theta = np.zeros((28,1))\n",
    "theta , cost_history = logRegressionGradientDescent(X,y,initial_theta,alpha,iterations)\n",
    "print(theta)\n"
   ]
  },
  {
   "cell_type": "markdown",
   "metadata": {},
   "source": [
    "3. [3 Points] Plot the decision boundary with the training data.\n",
    "\n",
    "Hint: You can use the cost and GradientDescent algorithms implemented in assignment Part1."
   ]
  },
  {
   "cell_type": "code",
   "execution_count": 65,
   "metadata": {},
   "outputs": [
    {
     "data": {
      "image/png": "[encoded data removed]",
      "text/plain": [
       "<Figure size 432x288 with 1 Axes>"
      ]
     },
     "metadata": {
      "needs_background": "light"
     },
     "output_type": "display_data"
    }
   ],
   "source": [
    "path = os.getcwd() + '/Assignment2_data2.csv'\n",
    "data = pd.read_csv(path, header=None, names=['Test 1', 'Test 2', 'Admitted'])\n",
    "\n",
    "cols = data.shape[1]\n",
    "X = data.iloc[:,0:cols-1] \n",
    "y = data.iloc[:,cols-1:cols]\n",
    "\n",
    "for i in range(0, len(y)):\n",
    "    marker = y.at[i,\"Admitted\"]\n",
    "    if marker == 1:\n",
    "        sign = \"+\"\n",
    "    else: \n",
    "        sign = \"o\" \n",
    "    plt.scatter(x=X.at[i,\"Test 1\"], y=X.at[i,\"Test 2\"], marker=sign, c=\"Black\")\n",
    "    \n",
    "#Assistance was provided from the following resource to understand contour plot in relation to dataset:\n",
    "#https://medium.com/analytics-vidhya/python-implementation-of-andrew-ngs-machine-learning-course-part-2-2-dceff1a12a12\n",
    "#I Used the code as a jumping off point and re-wrote in a way that I understood.\n",
    "# -Start Code Block from resource \n",
    "d1 = np.linspace(-1, 1.5, 100) #Create array of 100 values from -1 to 1.5 \n",
    "d2 = np.linspace(-1, 1.5, 100)\n",
    "d3 = np.zeros((len(d1), len(d2)))\n",
    "\n",
    "def mapFeatureForPlotting(X1, X2):\n",
    "    result = np.ones(1)\n",
    "    for i in range(1, 6+1):\n",
    "        for j in range(i+1):\n",
    "            term_1 = np.power(X1, i-j)\n",
    "            term_2 = np.power(X2, j)\n",
    "            raise_x = np.multiply(term_1, term_2)\n",
    "            result = np.hstack((result, raise_x))\n",
    "    return result\n",
    "\n",
    "for i in range(len(d1)):\n",
    "    for j in range(len(d2)):\n",
    "        d3[i,j] = np.dot(mapFeatureForPlotting(d1[i], d2[j]), theta)\n",
    "        \n",
    "plt.contour(d1,d2,d3,0,colors='blue')\n",
    "# -End Code Block from resource\n",
    "\n",
    "plt.title(\"Chip Scores\")\n",
    "plt.xlabel(\"Test 1\")\n",
    "plt.ylabel(\"Test 2\")\n",
    "plt.show()"
   ]
  },
  {
   "cell_type": "markdown",
   "metadata": {},
   "source": [
    "### Part 2, Q3 -- 15% <u>\n",
    "\n",
    "1. [5 Points] Implement Regularized Logistic Regression cost function."
   ]
  },
  {
   "cell_type": "code",
   "execution_count": 66,
   "metadata": {},
   "outputs": [],
   "source": [
    "def regLogRegressionCost(X, y, theta, lambda_t):\n",
    "    cost = 1/len(y) * np.sum((-y * np.log(sigmoid(np.dot(X,theta)))) - ((1-y)*np.log(1-sigmoid(np.dot(X,theta))))+lambda_t)\n",
    "    return cost "
   ]
  },
  {
   "cell_type": "markdown",
   "metadata": {},
   "source": [
    "2. [5 Points] Implement RegularizedlogRegressionGradientDescent ."
   ]
  },
  {
   "cell_type": "code",
   "execution_count": 67,
   "metadata": {},
   "outputs": [],
   "source": [
    "def reglogRegressionGradientDescent(X, y, theta0, alpha, iterations, lambda_t):\n",
    "    cost_history =[]\n",
    "    \n",
    "    for i in range(iterations):\n",
    "        cost = calcLogRegressionCost(X,y,theta0)\n",
    "        grad = 1/len(y) * np.dot(X.T,(sigmoid(np.dot(X,theta0)) - y))\n",
    "        grad = grad + (lambda_t/1/len(y))\n",
    "        theta0 = theta0 - (alpha * grad)\n",
    "        cost_history.append(cost)\n",
    "    \n",
    "    return theta0 , cost_history"
   ]
  },
  {
   "cell_type": "markdown",
   "metadata": {},
   "source": [
    "4. [5 Points] Plot the cost with the number of iterations."
   ]
  },
  {
   "cell_type": "code",
   "execution_count": 69,
   "metadata": {},
   "outputs": [
    {
     "data": {
      "text/plain": [
       "Text(0.5, 1.0, 'Cost function using Gradient Descent')"
      ]
     },
     "execution_count": 69,
     "metadata": {},
     "output_type": "execute_result"
    },
    {
     "data": {
      "image/png": "[encoded data removed]",
      "text/plain": [
       "<Figure size 432x288 with 1 Axes>"
      ]
     },
     "metadata": {
      "needs_background": "light"
     },
     "output_type": "display_data"
    }
   ],
   "source": [
    "X = mapFeature(X.iloc[:,0], X.iloc[:,1],6)\n",
    "lambda_t = 1\n",
    "theta, costHist = reglogRegressionGradientDescent(X,y,initial_theta,alpha,iterations,lambda_t)\n",
    "plt.plot(costHist)\n",
    "plt.xlabel(\"Iteration\")\n",
    "plt.ylabel(\"Cost\")\n",
    "plt.title(\"Cost function using Gradient Descent\")"
   ]
  },
  {
   "cell_type": "markdown",
   "metadata": {
    "collapsed": true
   },
   "source": [
    "# Assignment 2 -- Part 3( This part is for graduate students)\n"
   ]
  },
  {
   "cell_type": "markdown",
   "metadata": {},
   "source": [
    "What’s the best (or at least the most popular) Halloween candy? That was the question this dataset was collected to answer. Data was collected by creating a website where participants were shown presenting two fun-sized candies and asked to click on the one they would prefer to receive. In total, more than 269 thousand votes were collected from 8,371 different IP addresses.\n",
    "\n",
    "\n",
    "In this part, you will use the logistic regression from scikit learn to classify this the candies in 2 classes. \n",
    "\n",
    "The part of loading data and splitting into test and train is done for you.\n",
    "\n",
    "To know more about train_test_split follow the link below: \n",
    "\n",
    "https://scikit-learn.org/stable/modules/generated/sklearn.model_selection.train_test_split.html"
   ]
  },
  {
   "cell_type": "code",
   "execution_count": null,
   "metadata": {},
   "outputs": [],
   "source": [
    "from sklearn import datasets\n",
    "from sklearn.model_selection import train_test_split\n",
    "Chocolate_data = pd.read_csv(\"candy-data.csv\")\n",
    "print(Chocolate_data.head())\n",
    "Chocolate_data.drop(\"competitorname\", inplace = True, axis=1)\n",
    "y = Chocolate_data.chocolate.values\n",
    "x_data = Chocolate_data.drop([\"chocolate\"], axis = 1)\n",
    "X_train, X_test, y_train, y_test = train_test_split( x_data, y, test_size=0.2, random_state=42)"
   ]
  },
  {
   "cell_type": "markdown",
   "metadata": {},
   "source": [
    "### Part 3, Q1-- 10%\n",
    "\n",
    "1.[7 points] Import the logistic regression from scikit learn and train the logistic regression classifier and report the accuracy score.\n"
   ]
  },
  {
   "cell_type": "code",
   "execution_count": null,
   "metadata": {},
   "outputs": [],
   "source": [
    "from sklearn.linear_model import LogisticRegression\n",
    "from sklearn import metrics\n",
    "clf = LogisticRegression(solver='lbfgs').fit(X_train, y_train)\n",
    "prediction=clf.predict(X_test)\n",
    "metrics.accuracy_score(prediction,y_test)"
   ]
  },
  {
   "cell_type": "markdown",
   "metadata": {},
   "source": [
    "2.[3 Points] Scaling the features can help you for fast convergence and improve your accuracy. Scale the features(X_train and X_test) below using anykind of scaling."
   ]
  },
  {
   "cell_type": "code",
   "execution_count": null,
   "metadata": {},
   "outputs": [],
   "source": [
    "from sklearn.preprocessing import StandardScaler\n",
    "scaler = StandardScaler()\n",
    "X_train=scaler.fit_transform(X_train)\n",
    "X_test=scaler.fit_transform(X_test)\n"
   ]
  },
  {
   "cell_type": "markdown",
   "metadata": {},
   "source": [
    "### Part 3, Q2-- 5%\n",
    "\n",
    "Agian,Import the logistic regression from scikit learn and train the logistic regression classifier with scaled X_train and X_test. After that test logistic regression classifier's accuracy with X_test and y_test and report the accuracy. "
   ]
  },
  {
   "cell_type": "code",
   "execution_count": null,
   "metadata": {},
   "outputs": [],
   "source": [
    "from sklearn.linear_model import LogisticRegression\n",
    "from sklearn import metrics\n",
    "clf = LogisticRegression(solver='lbfgs').fit(X_train, y_train)\n",
    "prediction=clf.predict(X_test)\n",
    "metrics.accuracy_score(prediction,y_test)"
   ]
  },
  {
   "cell_type": "markdown",
   "metadata": {},
   "source": [
    "### Part 3, Q3-- 10% <b>(Bonus for graduate student)</b>"
   ]
  },
  {
   "cell_type": "markdown",
   "metadata": {},
   "source": [
    "If you have followed the basic steps correctly, you should get an accuracy around 93-94%. Now, try to take the accuracy to 96-97%. You can use feature generation, feature engineering and so on.\n",
    "\n",
    "Note: It would take a decent amount of time to improve the accuracy."
   ]
  },
  {
   "cell_type": "code",
   "execution_count": null,
   "metadata": {},
   "outputs": [],
   "source": []
  }
 ],
 "metadata": {
  "kernelspec": {
   "display_name": "Python 3",
   "language": "python",
   "name": "python3"
  },
  "language_info": {
   "codemirror_mode": {
    "name": "ipython",
    "version": 3
   },
   "file_extension": ".py",
   "mimetype": "text/x-python",
   "name": "python",
   "nbconvert_exporter": "python",
   "pygments_lexer": "ipython3",
   "version": "3.7.3"
  }
 },
 "nbformat": 4,
 "nbformat_minor": 2
}
